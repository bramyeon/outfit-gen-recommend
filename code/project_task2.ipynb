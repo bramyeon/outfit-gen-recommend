{
 "cells": [
  {
   "attachments": {},
   "cell_type": "markdown",
   "metadata": {
    "id": "6-ETDH_hMj6O"
   },
   "source": [
    "# Spring 2023 AI506 Term Project Task 2: Outfit Generation\n",
    "<b>Contributor</b>: Bryan Nathanael Wijaya, 20200735, bryannwijaya@kaist.ac.kr, School of Electrical Engineering, KAIST   \n",
    "<b>Team Member</b>: Quang Minh Nguyen, 20200854, qm.nguyen@kaist.ac.kr, School of Electrical Engineering, KAIST  \n",
    "<b>Instructor</b>: Prof. Kijung Shin, Kim Jaechul Graduate School of AI, KAIST  "
   ]
  },
  {
   "cell_type": "markdown",
   "metadata": {
    "id": "-iJw-bRqcP3X"
   },
   "source": [
    "Fashion outfit recommendations have attracted more and more attention, helping people buy clothes conveniently from a wide range of choices. In the online fashion community, people browse through fashion items and fashion outfits, sets of fashion items that match each other appropriately. By utilizing the user’s preference and outfit affiliation information jointly and fully, in this task, we aim to <b>predict one missing fashion item in an incomplete unseen outfit and complete it</b>."
   ]
  },
  {
   "cell_type": "code",
   "execution_count": 1,
   "metadata": {
    "executionInfo": {
     "elapsed": 556,
     "status": "ok",
     "timestamp": 1685351445747,
     "user": {
      "displayName": "Bryan Nathanael Wijaya",
      "userId": "05008851010654613119"
     },
     "user_tz": -540
    },
    "id": "XwIzYZIWOmwl"
   },
   "outputs": [],
   "source": [
    "import numpy as np\n",
    "import matplotlib.pyplot as plt\n",
    "from sklearn import datasets\n",
    "from tqdm import tqdm\n",
    "\n",
    "from collections import defaultdict\n",
    "import itertools\n",
    "import random\n",
    "import re\n",
    "import time\n",
    "import random"
   ]
  },
  {
   "cell_type": "markdown",
   "metadata": {
    "id": "sSgOu1pSUk5a"
   },
   "source": [
    "## Step 1. Uploading user-item interactions `ui`, training data `train`, validation queries `val_query`, validation ground-truth answers `val_truth`, and test queries `test_query`"
   ]
  },
  {
   "cell_type": "markdown",
   "metadata": {
    "id": "s7xOCCDWU5sa"
   },
   "source": [
    "### Step 1-1. User-item interactions `ui`"
   ]
  },
  {
   "cell_type": "code",
   "execution_count": 2,
   "metadata": {
    "executionInfo": {
     "elapsed": 4435,
     "status": "ok",
     "timestamp": 1685370739117,
     "user": {
      "displayName": "Bryan Nathanael Wijaya",
      "userId": "05008851010654613119"
     },
     "user_tz": -540
    },
    "id": "8V-ClveCXVNz"
   },
   "outputs": [],
   "source": [
    "ui = defaultdict(list)\n",
    "\n",
    "cnt = 0\n",
    "with open(\"./dataset/user_item.csv\", \"r\") as f:\n",
    "    for line in f:\n",
    "        _line = list(map(int, line.rstrip().split(\",\")))\n",
    "        ui[_line[0]].append(_line[1])\n",
    "        cnt += 1"
   ]
  },
  {
   "cell_type": "code",
   "execution_count": 3,
   "metadata": {
    "colab": {
     "base_uri": "https://localhost:8080/"
    },
    "executionInfo": {
     "elapsed": 2,
     "status": "ok",
     "timestamp": 1685370739117,
     "user": {
      "displayName": "Bryan Nathanael Wijaya",
      "userId": "05008851010654613119"
     },
     "user_tz": -540
    },
    "id": "JkJjqUt6XcMU",
    "outputId": "f99a6670-14e7-45aa-e789-fcc85495c345"
   },
   "outputs": [
    {
     "name": "stdout",
     "output_type": "stream",
     "text": [
      "User-item interaction data uploaded correctly.\n",
      "Total number of distinct users: 53843\n"
     ]
    }
   ],
   "source": [
    "if cnt == 2290645:\n",
    "    print(f\"User-item interaction data uploaded correctly.\\nTotal number of distinct users: {len(ui)}\")"
   ]
  },
  {
   "cell_type": "markdown",
   "metadata": {
    "id": "yoTpG_J9RzlO"
   },
   "source": [
    "### Step 1-2. Training data `train`"
   ]
  },
  {
   "cell_type": "code",
   "execution_count": 4,
   "metadata": {
    "executionInfo": {
     "elapsed": 1,
     "status": "ok",
     "timestamp": 1685370739117,
     "user": {
      "displayName": "Bryan Nathanael Wijaya",
      "userId": "05008851010654613119"
     },
     "user_tz": -540
    },
    "id": "t5MZetfdPrf8"
   },
   "outputs": [],
   "source": [
    "train = defaultdict(list)\n",
    "\n",
    "cnt = 0\n",
    "with open(f\"./dataset/itemset_item_training.csv\", \"r\") as f:\n",
    "    for line in f:\n",
    "        _line = list(map(int, line.rstrip().split(\",\")))\n",
    "        train[_line[0]].append(_line[1])\n",
    "        cnt += 1"
   ]
  },
  {
   "cell_type": "code",
   "execution_count": 5,
   "metadata": {
    "colab": {
     "base_uri": "https://localhost:8080/"
    },
    "executionInfo": {
     "elapsed": 1158,
     "status": "ok",
     "timestamp": 1685370740274,
     "user": {
      "displayName": "Bryan Nathanael Wijaya",
      "userId": "05008851010654613119"
     },
     "user_tz": -540
    },
    "id": "rYR0PtMaR07b",
    "outputId": "c9526690-0460-4ef8-e0f4-b14ada56ad27"
   },
   "outputs": [
    {
     "name": "stdout",
     "output_type": "stream",
     "text": [
      "Training data uploaded correctly.\n"
     ]
    }
   ],
   "source": [
    "if cnt == 85822 and len(train) == 22156:\n",
    "    print(\"Training data uploaded correctly.\")"
   ]
  },
  {
   "cell_type": "markdown",
   "metadata": {
    "id": "acbviZSPR4UF"
   },
   "source": [
    "### Step 1-3. Validation queries `val_query`"
   ]
  },
  {
   "cell_type": "code",
   "execution_count": 6,
   "metadata": {
    "executionInfo": {
     "elapsed": 2,
     "status": "ok",
     "timestamp": 1685370740274,
     "user": {
      "displayName": "Bryan Nathanael Wijaya",
      "userId": "05008851010654613119"
     },
     "user_tz": -540
    },
    "id": "my70qtVBQzZi"
   },
   "outputs": [],
   "source": [
    "val_query = defaultdict(list)\n",
    "\n",
    "cnt = 0\n",
    "with open(f\"./dataset/itemset_item_valid_query.csv\", \"r\") as f:\n",
    "    for line in f:\n",
    "        _line = list(map(int, line.rstrip().split(\",\")))\n",
    "        val_query[_line[0]].append(_line[1])\n",
    "        cnt += 1"
   ]
  },
  {
   "cell_type": "code",
   "execution_count": 7,
   "metadata": {
    "colab": {
     "base_uri": "https://localhost:8080/"
    },
    "executionInfo": {
     "elapsed": 2,
     "status": "ok",
     "timestamp": 1685370740274,
     "user": {
      "displayName": "Bryan Nathanael Wijaya",
      "userId": "05008851010654613119"
     },
     "user_tz": -540
    },
    "id": "f2NPFn4cTlJO",
    "outputId": "ee458660-2b31-4262-fdae-b139b95a64f9"
   },
   "outputs": [
    {
     "name": "stdout",
     "output_type": "stream",
     "text": [
      "Validation queries uploaded correctly.\n"
     ]
    }
   ],
   "source": [
    "if cnt == 7797 and len(val_query) == 2769:\n",
    "    print(\"Validation queries uploaded correctly.\")"
   ]
  },
  {
   "cell_type": "markdown",
   "metadata": {
    "id": "IuJGHLfRR9Iw"
   },
   "source": [
    "### Step 1-4. Validation ground-truth answers `val_truth`"
   ]
  },
  {
   "cell_type": "code",
   "execution_count": 8,
   "metadata": {
    "executionInfo": {
     "elapsed": 1,
     "status": "ok",
     "timestamp": 1685370740274,
     "user": {
      "displayName": "Bryan Nathanael Wijaya",
      "userId": "05008851010654613119"
     },
     "user_tz": -540
    },
    "id": "48zd5qhkQ4Bd"
   },
   "outputs": [],
   "source": [
    "val_truth = defaultdict(list)\n",
    "\n",
    "cnt = 0\n",
    "with open(f\"./dataset/itemset_item_valid_answer.csv\", \"r\") as f:\n",
    "    for line in f:\n",
    "        _line = list(map(int, line.rstrip().split(\",\")))\n",
    "        val_truth[_line[0]].append(_line[1])\n",
    "        cnt += 1"
   ]
  },
  {
   "cell_type": "code",
   "execution_count": 9,
   "metadata": {
    "colab": {
     "base_uri": "https://localhost:8080/"
    },
    "executionInfo": {
     "elapsed": 1,
     "status": "ok",
     "timestamp": 1685370740274,
     "user": {
      "displayName": "Bryan Nathanael Wijaya",
      "userId": "05008851010654613119"
     },
     "user_tz": -540
    },
    "id": "smjakIIxTxfr",
    "outputId": "0dd25412-a452-41d8-869d-88cd5cf32930"
   },
   "outputs": [
    {
     "name": "stdout",
     "output_type": "stream",
     "text": [
      "Validation ground-truth answers uploaded correctly.\n"
     ]
    }
   ],
   "source": [
    "if cnt == 2769 and len(val_truth) == 2769:\n",
    "    print(\"Validation ground-truth answers uploaded correctly.\")"
   ]
  },
  {
   "cell_type": "markdown",
   "metadata": {
    "id": "yTQqyRlUSC7B"
   },
   "source": [
    "### Step 1-5. Test queries `test_query`"
   ]
  },
  {
   "cell_type": "code",
   "execution_count": 10,
   "metadata": {
    "executionInfo": {
     "elapsed": 1,
     "status": "ok",
     "timestamp": 1685370740274,
     "user": {
      "displayName": "Bryan Nathanael Wijaya",
      "userId": "05008851010654613119"
     },
     "user_tz": -540
    },
    "id": "USe-yfXFUA80"
   },
   "outputs": [],
   "source": [
    "test_query = defaultdict(list)\n",
    "\n",
    "cnt = 0\n",
    "with open(f\"./dataset/itemset_item_test_query.csv\", \"r\") as f:\n",
    "    for line in f:\n",
    "        _line = list(map(int, line.rstrip().split(\",\")))\n",
    "        test_query[_line[0]].append(_line[1])\n",
    "        cnt += 1"
   ]
  },
  {
   "cell_type": "code",
   "execution_count": 11,
   "metadata": {
    "colab": {
     "base_uri": "https://localhost:8080/"
    },
    "executionInfo": {
     "elapsed": 2,
     "status": "ok",
     "timestamp": 1685370740275,
     "user": {
      "displayName": "Bryan Nathanael Wijaya",
      "userId": "05008851010654613119"
     },
     "user_tz": -540
    },
    "id": "jf4ZkduzUMbn",
    "outputId": "c3517044-f60a-4370-afbf-8cc6fd874da2"
   },
   "outputs": [
    {
     "name": "stdout",
     "output_type": "stream",
     "text": [
      "Test queries uploaded correctly.\n"
     ]
    }
   ],
   "source": [
    "if cnt == 7759 and len(test_query) == 2769:\n",
    "    print(\"Test queries uploaded correctly.\")"
   ]
  },
  {
   "cell_type": "markdown",
   "metadata": {
    "id": "8keXX-ojV6Kh"
   },
   "source": [
    "## Step 2. Functions for calculating the average accuracy and average rank in the validation set\n",
    "For each query itemset and its list of predicted candidate items for the missing item, we define the accuracy and ranking as follows:\n",
    "$$Accuracy = \\begin{cases}\n",
    "1, & \\text{if the missing item (i.e., ground-truth) is included in the prediction list}\\\\\n",
    "0, & \\text{otherwise}\n",
    "\\end{cases}$$\n",
    "$$Rank = \\begin{cases}\n",
    "\\text{rank(ground-truth)}, & \\text{if the missing item (i.e., ground-truth) is included in the prediction list}\\\\\n",
    "101, & \\text{otherwise}\n",
    "\\end{cases}$$"
   ]
  },
  {
   "cell_type": "code",
   "execution_count": 12,
   "metadata": {
    "executionInfo": {
     "elapsed": 1,
     "status": "ok",
     "timestamp": 1685373755974,
     "user": {
      "displayName": "Bryan Nathanael Wijaya",
      "userId": "05008851010654613119"
     },
     "user_tz": -540
    },
    "id": "MUJsSJKBVmn-"
   },
   "outputs": [],
   "source": [
    "# calculates the average accuracy of our model based on the above definition over the whole validation set\n",
    "def accuracy(val_pred, val_truth):\n",
    "    accuracy = 0\n",
    "    for pred_key, pred, truth_key, truth in zip(val_pred.keys(), val_pred.values(), val_truth.keys(), val_truth.values()):\n",
    "        assert pred_key == truth_key and type(truth) == list and type(pred) == list and len(truth) == 1 and len(pred) == 100\n",
    "        if truth[0] in pred:\n",
    "            accuracy += 1\n",
    "    average = accuracy / len(val_pred)\n",
    "    return average"
   ]
  },
  {
   "cell_type": "code",
   "execution_count": 13,
   "metadata": {
    "executionInfo": {
     "elapsed": 6,
     "status": "ok",
     "timestamp": 1685351480234,
     "user": {
      "displayName": "Bryan Nathanael Wijaya",
      "userId": "05008851010654613119"
     },
     "user_tz": -540
    },
    "id": "58NzXXmbVmwR"
   },
   "outputs": [],
   "source": [
    "# calculates the average rank of our model based on the above definition over the whole validation set\n",
    "def rank(val_pred, val_truth):\n",
    "    rank = 0\n",
    "    for pred_key, pred, truth_key, truth in zip(val_pred.keys(), val_pred.values(), val_truth.keys(), val_truth.values()):\n",
    "        assert pred_key == truth_key and type(truth) == list and type(pred) == list and len(truth) == 1 and len(pred) == 100\n",
    "        if truth[0] in pred:\n",
    "            rank += (pred.index(truth[0]) + 1)  # assume rank starts from 1 and ends at 100\n",
    "        else:\n",
    "            rank += 101\n",
    "    average = rank / len(val_pred)\n",
    "    return average"
   ]
  },
  {
   "cell_type": "code",
   "execution_count": 14,
   "metadata": {
    "executionInfo": {
     "elapsed": 5,
     "status": "ok",
     "timestamp": 1685351480234,
     "user": {
      "displayName": "Bryan Nathanael Wijaya",
      "userId": "05008851010654613119"
     },
     "user_tz": -540
    },
    "id": "90OI3b87fQP6"
   },
   "outputs": [],
   "source": [
    "def evaluate(val_pred, val_truth):\n",
    "    accuracy_avg = accuracy(val_pred, val_truth)\n",
    "    rank_avg = rank(val_pred, val_truth)\n",
    "    print(f\"Average accuracy in the validation set: {accuracy_avg}\")\n",
    "    print(f\"Average rank in the validation set:     {rank_avg}\")\n",
    "    return accuracy_avg, rank_avg"
   ]
  },
  {
   "cell_type": "markdown",
   "metadata": {
    "id": "0LYE7IyTUqLw"
   },
   "source": [
    "## Step 3. Baseline: Random Guessing"
   ]
  },
  {
   "cell_type": "code",
   "execution_count": null,
   "metadata": {
    "id": "aqY3Hkp4Ji97"
   },
   "outputs": [],
   "source": [
    "# get the items in the train data \n",
    "items = {}\n",
    "for i in train.keys():\n",
    "    iter = train[i]\n",
    "    for elem in iter:\n",
    "        try:\n",
    "            items[elem] += 1\n",
    "        except:\n",
    "            items[elem] = 1\n",
    "\n",
    "items_ = [elem[0] for elem in items.items()]"
   ]
  },
  {
   "cell_type": "code",
   "execution_count": null,
   "metadata": {
    "id": "etwl0WBAJp5a"
   },
   "outputs": [],
   "source": [
    "# return 100 random items for each itemset\n",
    "val_pred = {}\n",
    "for i in val_query.keys():\n",
    "    val_pred[i] = random.sample(items_, 100)"
   ]
  },
  {
   "cell_type": "code",
   "execution_count": null,
   "metadata": {
    "colab": {
     "base_uri": "https://localhost:8080/"
    },
    "executionInfo": {
     "elapsed": 306,
     "status": "ok",
     "timestamp": 1683386779426,
     "user": {
      "displayName": "Bryan Nathanael Wijaya",
      "userId": "05008851010654613119"
     },
     "user_tz": -540
    },
    "id": "11UFtwg2KaML",
    "outputId": "da5003ed-d539-4571-d6eb-87f2f645552d"
   },
   "outputs": [
    {
     "name": "stdout",
     "output_type": "stream",
     "text": [
      "Average accuracy in the validation set: 0.001444564824846515\n",
      "Average rank in the validation set:     100.9534127843987\n"
     ]
    },
    {
     "data": {
      "text/plain": [
       "(0.001444564824846515, 100.9534127843987)"
      ]
     },
     "execution_count": 22,
     "metadata": {},
     "output_type": "execute_result"
    }
   ],
   "source": [
    "# evaluate model\n",
    "evaluate(val_pred, val_truth)"
   ]
  },
  {
   "cell_type": "markdown",
   "metadata": {
    "id": "7YneelcLJaKP"
   },
   "source": [
    "## Step 4. Baseline: Frequent items"
   ]
  },
  {
   "cell_type": "code",
   "execution_count": null,
   "metadata": {
    "id": "CGWu_QmgmtDo"
   },
   "outputs": [],
   "source": [
    "# get the items in the train data \n",
    "items = {}\n",
    "for i in train.keys():\n",
    "    iter = train[i]\n",
    "    for elem in iter:\n",
    "        try:\n",
    "            items[elem] += 1\n",
    "        except:\n",
    "            items[elem] = 1\n",
    "\n",
    "items_ = [elem[0] for elem in items.items()]"
   ]
  },
  {
   "cell_type": "code",
   "execution_count": null,
   "metadata": {
    "id": "mmAD4XPgDjRJ"
   },
   "outputs": [],
   "source": [
    "# sort items based on their frequency in the train data (descending order)\n",
    "items_ = sorted(items.items(), key=lambda x:x[1], reverse=True)\n",
    "items_ = [elem[0] for elem in items_]"
   ]
  },
  {
   "cell_type": "code",
   "execution_count": null,
   "metadata": {
    "id": "XBuIpUEuFSmJ"
   },
   "outputs": [],
   "source": [
    "# return the 100 most frequent items as the query result for all itemsets\n",
    "val_pred = {}\n",
    "recom = items_[:100]\n",
    "for i in val_query.keys():\n",
    "    val_pred[i] = recom"
   ]
  },
  {
   "cell_type": "code",
   "execution_count": null,
   "metadata": {
    "colab": {
     "base_uri": "https://localhost:8080/"
    },
    "executionInfo": {
     "elapsed": 1,
     "status": "ok",
     "timestamp": 1681315617545,
     "user": {
      "displayName": "Bryan Nathanael Wijaya",
      "userId": "05008851010654613119"
     },
     "user_tz": -540
    },
    "id": "PVc3nKyXVm4I",
    "outputId": "83814c5f-761f-4a50-9d52-dd9ce6b3a681"
   },
   "outputs": [
    {
     "name": "stdout",
     "output_type": "stream",
     "text": [
      "Average accuracy in the validation set: 0.11664860960635609\n",
      "Average rank in the validation set:     93.40953412784398\n"
     ]
    }
   ],
   "source": [
    "# evaluate model\n",
    "evaluate(val_pred, val_truth)"
   ]
  },
  {
   "cell_type": "markdown",
   "metadata": {
    "id": "A7mF2BfoMvdU"
   },
   "source": [
    "### What if we slightly modify the recommendation to not include the items that are already in the itemset?"
   ]
  },
  {
   "cell_type": "code",
   "execution_count": null,
   "metadata": {
    "id": "rN7WbZM_MsHu"
   },
   "outputs": [],
   "source": [
    "# return the 100 most frequent items as the query result for all itemsets, excluding items that are already in the itemset\n",
    "val_pred = {}\n",
    "for i in val_query.keys():\n",
    "    iter = val_query[i]\n",
    "    val_pred[i] = [elem for elem in items_ if elem not in iter][:100]"
   ]
  },
  {
   "cell_type": "code",
   "execution_count": null,
   "metadata": {
    "colab": {
     "base_uri": "https://localhost:8080/"
    },
    "executionInfo": {
     "elapsed": 2,
     "status": "ok",
     "timestamp": 1681315628918,
     "user": {
      "displayName": "Bryan Nathanael Wijaya",
      "userId": "05008851010654613119"
     },
     "user_tz": -540
    },
    "id": "cOuGTbm7Ms4w",
    "outputId": "40e83fdc-2e65-4a91-903c-ef4d9f4db224"
   },
   "outputs": [
    {
     "name": "stdout",
     "output_type": "stream",
     "text": [
      "Average accuracy in the validation set: 0.11700975081256772\n",
      "Average rank in the validation set:     93.38786565547129\n"
     ]
    }
   ],
   "source": [
    "# evaluate model\n",
    "evaluate(val_pred, val_truth)"
   ]
  },
  {
   "cell_type": "markdown",
   "metadata": {
    "id": "Xee9WaDAH6GX"
   },
   "source": [
    "## Step 5. Approach 1: Itemset-itemset collaborative filtering\n",
    "<b>Best result: wt=0.02, rt=0.00</b>  \n",
    "Average accuracy: 0.18273745034308414  \n",
    "Average rank:     87.79920548934633"
   ]
  },
  {
   "cell_type": "markdown",
   "metadata": {
    "id": "MenohMDhH6Gg"
   },
   "source": [
    "### Step 5-1. Itemset-itemset collaborative filtering with ```train``` dataset"
   ]
  },
  {
   "cell_type": "code",
   "execution_count": 29,
   "metadata": {
    "id": "EE9f3fRzH6Gg"
   },
   "outputs": [],
   "source": [
    "# calculate the similarity between two itemsets, foo and boo\n",
    "def similarity(foo, boo):\n",
    "    sim = 0\n",
    "    for i in range(len(foo)):\n",
    "        for j in range(len(boo)):\n",
    "            if foo[i] == boo[j]:\n",
    "                sim += 1\n",
    "    return sim"
   ]
  },
  {
   "cell_type": "code",
   "execution_count": 30,
   "metadata": {
    "id": "mQ0p6FOnH6Gg"
   },
   "outputs": [],
   "source": [
    "# sort the itemsets in train in the order of similarity to the itemset foo\n",
    "def most_similar(foo, wt=0, limit=False):\n",
    "    sims = []\n",
    "    for i in train.keys():\n",
    "        sim = similarity(foo, train[i]) + wt\n",
    "        if not limit or sim > 0:\n",
    "            sims.append((i, sim))\n",
    "    sims.sort(key=lambda x:x[1], reverse=True)\n",
    "    return sims"
   ]
  },
  {
   "cell_type": "code",
   "execution_count": 31,
   "metadata": {
    "id": "ytKinienI5QF"
   },
   "outputs": [],
   "source": [
    "# get the items in the train data \n",
    "items = {}\n",
    "for i in train.keys():\n",
    "    iter = train[i]\n",
    "    for elem in iter:\n",
    "        try:\n",
    "            items[elem] += 1\n",
    "        except:\n",
    "            items[elem] = 1\n",
    "\n",
    "items_ = [elem[0] for elem in items.items()]\n",
    "\n",
    "# sort items based on their frequency in the train data (descending order)\n",
    "frequents = sorted(items.items(), key=lambda x:x[1], reverse=True)\n",
    "frequents = [elem[0] for elem in frequents]"
   ]
  },
  {
   "cell_type": "code",
   "execution_count": 32,
   "metadata": {
    "id": "rRhTl-AUH6Gg"
   },
   "outputs": [],
   "source": [
    "# predicts the 100 most probable missing item in each itemset in dest_query\n",
    "def model(dest_query, wt=0, frequent=False):\n",
    "    dest_pred = {}\n",
    "    # for each itemset in dest_query\n",
    "    for i in tqdm(dest_query.keys()):\n",
    "        iter = dest_query[i]\n",
    "        # sort the itemsets in train in the order of similarity to the itemset\n",
    "        sims = most_similar(iter, wt, limit=frequent)\n",
    "        candidates = {}\n",
    "        # for each itemset in sims\n",
    "        for j in range(len(sims)):\n",
    "            iter_ = train[sims[j][0]]\n",
    "            sim_ = sims[j][1]\n",
    "            # append each item in it together with the similarity of this sims itemset to the dest_query itemset of interest\n",
    "            for k in range(len(iter_)):\n",
    "                # only if this item is not already in the dest_query itemset itself\n",
    "                if iter_[k] not in iter:\n",
    "                    try:\n",
    "                        candidates[iter_[k]] += sim_\n",
    "                    except:\n",
    "                        candidates[iter_[k]] = sim_\n",
    "        # sort the candidates in descending order of the accumulated similarity and take the first 100, append to the prediction dictionary\n",
    "        candidates = sorted(candidates.items(), key=lambda x:x[1], reverse=True)\n",
    "        candidates = [elem[0] for elem in candidates]\n",
    "        if frequent:\n",
    "            good = set(frequents).difference(candidates).difference(dest_query[i])\n",
    "            candidates = candidates + [elem for elem in frequents if elem in good]\n",
    "        candidates = candidates[:100]\n",
    "        if len(candidates) < 100:\n",
    "            print(f\"Oops! The number candidates for {i} is less than 100.\")\n",
    "        dest_pred[i] = candidates\n",
    "    return dest_pred"
   ]
  },
  {
   "cell_type": "markdown",
   "metadata": {
    "id": "ZroVgocVKiJh"
   },
   "source": [
    "#### Step 5-1-1. Without frequent items"
   ]
  },
  {
   "cell_type": "code",
   "execution_count": 33,
   "metadata": {
    "colab": {
     "base_uri": "https://localhost:8080/"
    },
    "executionInfo": {
     "elapsed": 3452675,
     "status": "ok",
     "timestamp": 1681326568616,
     "user": {
      "displayName": "Bryan Nathanael Wijaya",
      "userId": "05008851010654613119"
     },
     "user_tz": -540
    },
    "id": "Fj-scX1-H6Gg",
    "outputId": "b4c37f66-666a-47e6-c6d1-eda17d69d12a"
   },
   "outputs": [
    {
     "name": "stdout",
     "output_type": "stream",
     "text": [
      "=== Evaluating model with wt=0.0 ===\n"
     ]
    },
    {
     "name": "stderr",
     "output_type": "stream",
     "text": [
      "100%|██████████| 2769/2769 [02:04<00:00, 22.20it/s]\n"
     ]
    },
    {
     "name": "stdout",
     "output_type": "stream",
     "text": [
      "Average accuracy in the validation set: 0.13615023474178403\n",
      "Average rank in the validation set:     90.10111953773925\n",
      "\n",
      "=== Evaluating model with wt=0.1 ===\n"
     ]
    },
    {
     "name": "stderr",
     "output_type": "stream",
     "text": [
      "100%|██████████| 2769/2769 [02:10<00:00, 21.25it/s]\n"
     ]
    },
    {
     "name": "stdout",
     "output_type": "stream",
     "text": [
      "Average accuracy in the validation set: 0.14048392921632358\n",
      "Average rank in the validation set:     91.38100397255327\n",
      "\n",
      "=== Evaluating model with wt=0.2 ===\n"
     ]
    },
    {
     "name": "stderr",
     "output_type": "stream",
     "text": [
      "100%|██████████| 2769/2769 [02:09<00:00, 21.44it/s]\n"
     ]
    },
    {
     "name": "stdout",
     "output_type": "stream",
     "text": [
      "Average accuracy in the validation set: 0.1318165402672445\n",
      "Average rank in the validation set:     92.1459010473095\n",
      "\n",
      "=== Evaluating model with wt=0.3 ===\n"
     ]
    },
    {
     "name": "stderr",
     "output_type": "stream",
     "text": [
      "100%|██████████| 2769/2769 [02:09<00:00, 21.36it/s]\n"
     ]
    },
    {
     "name": "stdout",
     "output_type": "stream",
     "text": [
      "Average accuracy in the validation set: 0.12603828096785843\n",
      "Average rank in the validation set:     92.47092813289997\n",
      "\n",
      "=== Evaluating model with wt=0.4 ===\n"
     ]
    },
    {
     "name": "stderr",
     "output_type": "stream",
     "text": [
      "100%|██████████| 2769/2769 [02:08<00:00, 21.51it/s]\n"
     ]
    },
    {
     "name": "stdout",
     "output_type": "stream",
     "text": [
      "Average accuracy in the validation set: 0.12531599855543518\n",
      "Average rank in the validation set:     92.62369086312748\n",
      "\n",
      "=== Evaluating model with wt=0.5 ===\n"
     ]
    },
    {
     "name": "stderr",
     "output_type": "stream",
     "text": [
      "100%|██████████| 2769/2769 [02:09<00:00, 21.40it/s]\n"
     ]
    },
    {
     "name": "stdout",
     "output_type": "stream",
     "text": [
      "Average accuracy in the validation set: 0.12495485734922354\n",
      "Average rank in the validation set:     92.70747562296859\n",
      "\n",
      "=== Evaluating model with wt=0.6 ===\n"
     ]
    },
    {
     "name": "stderr",
     "output_type": "stream",
     "text": [
      "100%|██████████| 2769/2769 [02:09<00:00, 21.35it/s]\n"
     ]
    },
    {
     "name": "stdout",
     "output_type": "stream",
     "text": [
      "Average accuracy in the validation set: 0.12314915131816541\n",
      "Average rank in the validation set:     92.81328999638859\n",
      "\n",
      "=== Evaluating model with wt=0.7 ===\n"
     ]
    },
    {
     "name": "stderr",
     "output_type": "stream",
     "text": [
      "100%|██████████| 2769/2769 [02:09<00:00, 21.46it/s]\n"
     ]
    },
    {
     "name": "stdout",
     "output_type": "stream",
     "text": [
      "Average accuracy in the validation set: 0.12278801011195377\n",
      "Average rank in the validation set:     92.88660166124954\n",
      "\n",
      "=== Evaluating model with wt=0.8 ===\n"
     ]
    },
    {
     "name": "stderr",
     "output_type": "stream",
     "text": [
      "100%|██████████| 2769/2769 [02:08<00:00, 21.58it/s]\n"
     ]
    },
    {
     "name": "stdout",
     "output_type": "stream",
     "text": [
      "Average accuracy in the validation set: 0.12278801011195377\n",
      "Average rank in the validation set:     92.93138317081979\n",
      "\n",
      "=== Evaluating model with wt=0.9 ===\n"
     ]
    },
    {
     "name": "stderr",
     "output_type": "stream",
     "text": [
      "100%|██████████| 2769/2769 [02:08<00:00, 21.63it/s]\n"
     ]
    },
    {
     "name": "stdout",
     "output_type": "stream",
     "text": [
      "Average accuracy in the validation set: 0.12278801011195377\n",
      "Average rank in the validation set:     92.9689418562658\n",
      "\n",
      "=== Evaluating model with wt=1.0 ===\n"
     ]
    },
    {
     "name": "stderr",
     "output_type": "stream",
     "text": [
      "100%|██████████| 2769/2769 [02:04<00:00, 22.26it/s]"
     ]
    },
    {
     "name": "stdout",
     "output_type": "stream",
     "text": [
      "Average accuracy in the validation set: 0.12242686890574214\n",
      "Average rank in the validation set:     92.98338750451427\n",
      "\n"
     ]
    },
    {
     "name": "stderr",
     "output_type": "stream",
     "text": [
      "\n"
     ]
    }
   ],
   "source": [
    "accuracies = []\n",
    "ranks = []\n",
    "for i in range(11):\n",
    "    wt = 0.1 * i\n",
    "    print(f\"=== Evaluating model with wt={wt:.1f} ===\")\n",
    "    val_pred = model(val_query, wt)\n",
    "    acc_, rank_ = evaluate(val_pred, val_truth)\n",
    "    accuracies.append(acc_)\n",
    "    ranks.append(rank_)\n",
    "    print(\"\")"
   ]
  },
  {
   "cell_type": "code",
   "execution_count": 34,
   "metadata": {
    "colab": {
     "base_uri": "https://localhost:8080/",
     "height": 391
    },
    "executionInfo": {
     "elapsed": 1344,
     "status": "ok",
     "timestamp": 1681326623125,
     "user": {
      "displayName": "Bryan Nathanael Wijaya",
      "userId": "05008851010654613119"
     },
     "user_tz": -540
    },
    "id": "_qZdGaLNH6Gh",
    "outputId": "f49e2c1b-3dba-4ed9-aca4-3b0099fbe77c"
   },
   "outputs": [
    {
     "data": {
      "image/png": "[encoded data removed]",
      "text/plain": [
       "<Figure size 1500x400 with 2 Axes>"
      ]
     },
     "metadata": {},
     "output_type": "display_data"
    }
   ],
   "source": [
    "wt = [0.1*i for i in range(11)]\n",
    "plt.figure(figsize=(15,4))\n",
    "\n",
    "plt.subplot(121)\n",
    "plt.plot(wt, accuracies, 'b')\n",
    "plt.title('Average accuracies vs. wt')\n",
    "\n",
    "plt.subplot(122)\n",
    "plt.plot(wt, ranks, 'b')\n",
    "plt.title('Average ranks vs. wt')\n",
    "\n",
    "plt.show()"
   ]
  },
  {
   "cell_type": "code",
   "execution_count": 35,
   "metadata": {
    "colab": {
     "base_uri": "https://localhost:8080/"
    },
    "executionInfo": {
     "elapsed": 2629114,
     "status": "ok",
     "timestamp": 1681329303457,
     "user": {
      "displayName": "Bryan Nathanael Wijaya",
      "userId": "05008851010654613119"
     },
     "user_tz": -540
    },
    "id": "GttaO-loH6Gh",
    "outputId": "aa0056c1-b109-4d34-8745-f8ce7a2b1b60"
   },
   "outputs": [
    {
     "name": "stdout",
     "output_type": "stream",
     "text": [
      "=== Evaluating model with wt=0.00 ===\n"
     ]
    },
    {
     "name": "stderr",
     "output_type": "stream",
     "text": [
      "100%|██████████| 2769/2769 [02:00<00:00, 23.05it/s]\n"
     ]
    },
    {
     "name": "stdout",
     "output_type": "stream",
     "text": [
      "Average accuracy in the validation set: 0.13615023474178403\n",
      "Average rank in the validation set:     90.10111953773925\n",
      "\n",
      "=== Evaluating model with wt=0.02 ===\n"
     ]
    },
    {
     "name": "stderr",
     "output_type": "stream",
     "text": [
      "100%|██████████| 2769/2769 [02:05<00:00, 22.14it/s]\n"
     ]
    },
    {
     "name": "stdout",
     "output_type": "stream",
     "text": [
      "Average accuracy in the validation set: 0.18273745034308414\n",
      "Average rank in the validation set:     87.79920548934633\n",
      "\n",
      "=== Evaluating model with wt=0.04 ===\n"
     ]
    },
    {
     "name": "stderr",
     "output_type": "stream",
     "text": [
      "100%|██████████| 2769/2769 [02:07<00:00, 21.78it/s]\n"
     ]
    },
    {
     "name": "stdout",
     "output_type": "stream",
     "text": [
      "Average accuracy in the validation set: 0.15745756590827015\n",
      "Average rank in the validation set:     89.61466233297219\n",
      "\n",
      "=== Evaluating model with wt=0.06 ===\n"
     ]
    },
    {
     "name": "stderr",
     "output_type": "stream",
     "text": [
      "100%|██████████| 2769/2769 [02:08<00:00, 21.50it/s]\n"
     ]
    },
    {
     "name": "stdout",
     "output_type": "stream",
     "text": [
      "Average accuracy in the validation set: 0.1469844709281329\n",
      "Average rank in the validation set:     90.5774647887324\n",
      "\n",
      "=== Evaluating model with wt=0.08 ===\n"
     ]
    },
    {
     "name": "stderr",
     "output_type": "stream",
     "text": [
      "100%|██████████| 2769/2769 [02:14<00:00, 20.64it/s]\n"
     ]
    },
    {
     "name": "stdout",
     "output_type": "stream",
     "text": [
      "Average accuracy in the validation set: 0.14373420007222823\n",
      "Average rank in the validation set:     91.05669916937522\n",
      "\n",
      "=== Evaluating model with wt=0.10 ===\n"
     ]
    },
    {
     "name": "stderr",
     "output_type": "stream",
     "text": [
      "100%|██████████| 2769/2769 [02:07<00:00, 21.69it/s]\n"
     ]
    },
    {
     "name": "stdout",
     "output_type": "stream",
     "text": [
      "Average accuracy in the validation set: 0.14048392921632358\n",
      "Average rank in the validation set:     91.38100397255327\n",
      "\n",
      "=== Evaluating model with wt=0.12 ===\n"
     ]
    },
    {
     "name": "stderr",
     "output_type": "stream",
     "text": [
      "100%|██████████| 2769/2769 [02:04<00:00, 22.19it/s]\n"
     ]
    },
    {
     "name": "stdout",
     "output_type": "stream",
     "text": [
      "Average accuracy in the validation set: 0.13759479956663057\n",
      "Average rank in the validation set:     91.65402672444925\n",
      "\n",
      "=== Evaluating model with wt=0.14 ===\n"
     ]
    },
    {
     "name": "stderr",
     "output_type": "stream",
     "text": [
      "100%|██████████| 2769/2769 [02:05<00:00, 22.14it/s]"
     ]
    },
    {
     "name": "stdout",
     "output_type": "stream",
     "text": [
      "Average accuracy in the validation set: 0.13434452871072589\n",
      "Average rank in the validation set:     91.8169014084507\n",
      "\n"
     ]
    },
    {
     "name": "stderr",
     "output_type": "stream",
     "text": [
      "\n"
     ]
    }
   ],
   "source": [
    "accuracies = []\n",
    "ranks = []\n",
    "for i in range(8):\n",
    "    wt = 0.02 * i\n",
    "    print(f\"=== Evaluating model with wt={wt:.2f} ===\")\n",
    "    val_pred = model(val_query, wt)\n",
    "    acc_, rank_ = evaluate(val_pred, val_truth)\n",
    "    accuracies.append(acc_)\n",
    "    ranks.append(rank_)\n",
    "    print(\"\")"
   ]
  },
  {
   "cell_type": "code",
   "execution_count": 36,
   "metadata": {
    "colab": {
     "base_uri": "https://localhost:8080/",
     "height": 391
    },
    "executionInfo": {
     "elapsed": 863,
     "status": "ok",
     "timestamp": 1681329384060,
     "user": {
      "displayName": "Bryan Nathanael Wijaya",
      "userId": "05008851010654613119"
     },
     "user_tz": -540
    },
    "id": "kb3v2tCyH6Gh",
    "outputId": "7cdcca9e-a208-41dd-f9a1-dbc7ceda779a"
   },
   "outputs": [
    {
     "data": {
      "image/png": "[encoded data removed]",
      "text/plain": [
       "<Figure size 1500x400 with 2 Axes>"
      ]
     },
     "metadata": {},
     "output_type": "display_data"
    }
   ],
   "source": [
    "wt = [0.02*i for i in range(8)]\n",
    "plt.figure(figsize=(15,4))\n",
    "\n",
    "plt.subplot(121)\n",
    "plt.plot(wt, accuracies, 'b')\n",
    "plt.title('Average accuracies vs. wt')\n",
    "\n",
    "plt.subplot(122)\n",
    "plt.plot(wt, ranks, 'b')\n",
    "plt.title('Average ranks vs. wt')\n",
    "\n",
    "plt.show()"
   ]
  },
  {
   "cell_type": "markdown",
   "metadata": {
    "id": "2LC_Xch6KrzH"
   },
   "source": [
    "#### Step 5-1-2. With frequent items"
   ]
  },
  {
   "cell_type": "code",
   "execution_count": 37,
   "metadata": {
    "colab": {
     "base_uri": "https://localhost:8080/"
    },
    "executionInfo": {
     "elapsed": 159361,
     "status": "ok",
     "timestamp": 1683364291821,
     "user": {
      "displayName": "Bryan Nathanael Wijaya",
      "userId": "05008851010654613119"
     },
     "user_tz": -540
    },
    "id": "ikVPbUTiKrzH",
    "outputId": "2daa1ce5-033a-46ad-dc17-6e794fe2c74d"
   },
   "outputs": [
    {
     "name": "stdout",
     "output_type": "stream",
     "text": [
      "=== Evaluating model with frequent items ===\n"
     ]
    },
    {
     "name": "stderr",
     "output_type": "stream",
     "text": [
      "100%|██████████| 2769/2769 [00:57<00:00, 48.31it/s]"
     ]
    },
    {
     "name": "stdout",
     "output_type": "stream",
     "text": [
      "Average accuracy in the validation set: 0.16648609606356085\n",
      "Average rank in the validation set:     88.74395088479595\n"
     ]
    },
    {
     "name": "stderr",
     "output_type": "stream",
     "text": [
      "\n"
     ]
    }
   ],
   "source": [
    "print(f\"=== Evaluating model with frequent items ===\")\n",
    "val_pred = model(val_query, frequent=True)\n",
    "acc_, rank_ = evaluate(val_pred, val_truth)"
   ]
  },
  {
   "cell_type": "markdown",
   "metadata": {
    "id": "MeyeL5PNH6Gh"
   },
   "source": [
    "### Step 5-2. Linear combination of itemset-itemset (```train```) + user-user (```ui```) collaborative filtering"
   ]
  },
  {
   "cell_type": "code",
   "execution_count": null,
   "metadata": {
    "id": "2zJhAHQNH6Gh"
   },
   "outputs": [],
   "source": [
    "# get the similarity of users to the itemset foo\n",
    "def ui_similarity(foo, wt=0, rt=1):\n",
    "    sims = []\n",
    "    for i in ui.keys():\n",
    "        sim = similarity(foo, ui[i]) + wt\n",
    "        sims.append((i, sim * (1-rt)))\n",
    "    return sims"
   ]
  },
  {
   "cell_type": "code",
   "execution_count": 28,
   "metadata": {
    "id": "xh-X6KuVH6Gh"
   },
   "outputs": [],
   "source": [
    "# predicts the 100 most probable missing item in each itemset in dest_query\n",
    "def model_ui(dest_query, wt=0, rt=1):\n",
    "    dest_pred = {}\n",
    "    # for each itemset in dest_query\n",
    "    for i in tqdm(dest_query.keys()):\n",
    "        iter = dest_query[i]\n",
    "        # sort the itemsets in train and ui in the order of similarity to the itemset\n",
    "        sims = most_similar(iter, wt)\n",
    "        sims = [(elem[0], elem[1] * rt) for elem in sims]\n",
    "        sims_ = ui_similarity(iter, wt, rt)\n",
    "        candidates = {}\n",
    "        # for each itemset in sims\n",
    "        for j in range(len(sims)):\n",
    "            iter_ = train[sims[j][0]]\n",
    "            sim_ = sims[j][1]\n",
    "            # append each item in it together with the similarity of this sims itemset to the dest_query itemset of interest\n",
    "            for k in range(len(iter_)):\n",
    "                # only if this item is not already in the dest_query itemset itself\n",
    "                if iter_[k] not in iter:\n",
    "                    try:\n",
    "                        candidates[iter_[k]] += sim_\n",
    "                    except:\n",
    "                        candidates[iter_[k]] = sim_\n",
    "        # for each user in sims_\n",
    "        for j in range(len(sims_)):\n",
    "            iter_ = ui[sims_[j][0]]\n",
    "            sim_ = sims_[j][1]\n",
    "            # append each item in it together with the similarity of this sims_ itemset to the dest_query itemset of interest\n",
    "            for k in range(len(iter_)):\n",
    "                # only if this item is not already in the dest_query itemset itself\n",
    "                if iter_[k] not in iter:\n",
    "                    try:\n",
    "                        candidates[iter_[k]] += sim_\n",
    "                    except:\n",
    "                        candidates[iter_[k]] = sim_\n",
    "        # sort the candidates in descending order of the accumulated similarity and take the first 100, append to the prediction dictionary\n",
    "        candidates = sorted(candidates.items(), key=lambda x:x[1], reverse=True)\n",
    "        candidates = [elem[0] for elem in candidates][:100]\n",
    "        if len(candidates) < 100:\n",
    "            print(f\"Oops! The number candidates for {i} is less than 100.\")\n",
    "        dest_pred[i] = candidates\n",
    "    return dest_pred"
   ]
  },
  {
   "cell_type": "code",
   "execution_count": 21,
   "metadata": {
    "colab": {
     "base_uri": "https://localhost:8080/",
     "height": 763
    },
    "executionInfo": {
     "elapsed": 1314906,
     "status": "error",
     "timestamp": 1681346794107,
     "user": {
      "displayName": "Bryan Nathanael Wijaya",
      "userId": "05008851010654613119"
     },
     "user_tz": -540
    },
    "id": "IROuRLPNH6Gh",
    "outputId": "98f44c51-eb2c-4eaf-e609-ea7992c5c255"
   },
   "outputs": [
    {
     "name": "stdout",
     "output_type": "stream",
     "text": [
      "=== Evaluating model with wt=0.02 and rt=0.00 ===\n"
     ]
    },
    {
     "name": "stderr",
     "output_type": "stream",
     "text": [
      "100%|██████████| 2769/2769 [28:10<00:00,  1.64it/s]\n"
     ]
    },
    {
     "name": "stdout",
     "output_type": "stream",
     "text": [
      "Average accuracy in the validation set: 0.10653665583243048\n",
      "Average rank in the validation set:     93.90863127482845\n",
      "\n",
      "=== Evaluating model with wt=0.02 and rt=0.20 ===\n"
     ]
    },
    {
     "name": "stderr",
     "output_type": "stream",
     "text": [
      "100%|██████████| 2769/2769 [28:15<00:00,  1.63it/s]\n"
     ]
    },
    {
     "name": "stdout",
     "output_type": "stream",
     "text": [
      "Average accuracy in the validation set: 0.10834236186348863\n",
      "Average rank in the validation set:     93.81581798483207\n",
      "\n",
      "=== Evaluating model with wt=0.02 and rt=0.40 ===\n"
     ]
    },
    {
     "name": "stderr",
     "output_type": "stream",
     "text": [
      "100%|██████████| 2769/2769 [28:13<00:00,  1.63it/s]\n"
     ]
    },
    {
     "name": "stdout",
     "output_type": "stream",
     "text": [
      "Average accuracy in the validation set: 0.10906464427591188\n",
      "Average rank in the validation set:     93.67786204405922\n",
      "\n",
      "=== Evaluating model with wt=0.02 and rt=0.60 ===\n"
     ]
    },
    {
     "name": "stderr",
     "output_type": "stream",
     "text": [
      "100%|██████████| 2769/2769 [28:09<00:00,  1.64it/s]\n"
     ]
    },
    {
     "name": "stdout",
     "output_type": "stream",
     "text": [
      "Average accuracy in the validation set: 0.11375947995666305\n",
      "Average rank in the validation set:     93.40592271578187\n",
      "\n",
      "=== Evaluating model with wt=0.02 and rt=0.80 ===\n"
     ]
    },
    {
     "name": "stderr",
     "output_type": "stream",
     "text": [
      "100%|██████████| 2769/2769 [28:06<00:00,  1.64it/s]\n"
     ]
    },
    {
     "name": "stdout",
     "output_type": "stream",
     "text": [
      "Average accuracy in the validation set: 0.1292885518237631\n",
      "Average rank in the validation set:     92.39906103286386\n",
      "\n",
      "=== Evaluating model with wt=0.02 and rt=1.00 ===\n"
     ]
    },
    {
     "name": "stderr",
     "output_type": "stream",
     "text": [
      "100%|██████████| 2769/2769 [28:08<00:00,  1.64it/s]"
     ]
    },
    {
     "name": "stdout",
     "output_type": "stream",
     "text": [
      "Average accuracy in the validation set: 0.18273745034308414\n",
      "Average rank in the validation set:     87.79920548934633\n",
      "\n"
     ]
    },
    {
     "name": "stderr",
     "output_type": "stream",
     "text": [
      "\n"
     ]
    }
   ],
   "source": [
    "accuracies = []\n",
    "ranks = []\n",
    "wt = 0.02\n",
    "for i in range(6):\n",
    "    rt = 0.2 * i\n",
    "    print(f\"=== Evaluating model with wt={wt:.2f} and rt={rt:.2f} ===\")\n",
    "    val_pred = model_ui(val_query, wt, rt)\n",
    "    acc_, rank_ = evaluate(val_pred, val_truth)\n",
    "    accuracies.append(acc_)\n",
    "    ranks.append(rank_)\n",
    "    print(\"\")"
   ]
  },
  {
   "cell_type": "code",
   "execution_count": 22,
   "metadata": {
    "colab": {
     "base_uri": "https://localhost:8080/",
     "height": 391
    },
    "executionInfo": {
     "elapsed": 1171,
     "status": "ok",
     "timestamp": 1681346808810,
     "user": {
      "displayName": "Bryan Nathanael Wijaya",
      "userId": "05008851010654613119"
     },
     "user_tz": -540
    },
    "id": "ckH7V4xEH6Gh",
    "outputId": "d360a217-83b9-4dde-c019-925cfc5faa08"
   },
   "outputs": [
    {
     "data": {
      "image/png": "[encoded data removed]",
      "text/plain": [
       "<Figure size 1500x400 with 2 Axes>"
      ]
     },
     "metadata": {},
     "output_type": "display_data"
    }
   ],
   "source": [
    "rt = [0.2*i for i in range(6)]\n",
    "plt.figure(figsize=(15,4))\n",
    "\n",
    "plt.subplot(121)\n",
    "plt.plot(rt, accuracies, 'b')\n",
    "plt.title(f'Average accuracies vs. rt with wt={wt:.2f}')\n",
    "\n",
    "plt.subplot(122)\n",
    "plt.plot(rt, ranks, 'b')\n",
    "plt.title(f'Average ranks vs. rt with wt={wt:.2f}')\n",
    "\n",
    "plt.show()"
   ]
  },
  {
   "cell_type": "markdown",
   "metadata": {
    "id": "x2oxtAFHVVC4"
   },
   "source": [
    "## Step 6. Approach 2: Neighbor Mining\n",
    "<b>Best result: wt=0.04</b>  \n",
    "Average accuracy: 0.24846514987360058  \n",
    "Average rank:     82.56193571686529"
   ]
  },
  {
   "cell_type": "code",
   "execution_count": 15,
   "metadata": {
    "id": "wTQ4CaxkTQ_R"
   },
   "outputs": [],
   "source": [
    "def neighbor(data):\n",
    "    neighbors = defaultdict(dict)\n",
    "    # for each foo=itemset#, boo=items in foo\n",
    "    for foo, boo in tqdm(data.items()):\n",
    "        # for each item in boo\n",
    "        for elem in boo:\n",
    "            # list of items excluding elem\n",
    "            boo_ = [i for i in boo if i != elem]\n",
    "            # add the count of items neighboring elem to the neighbors[elem][neighbor item#]\n",
    "            for iter in boo_:\n",
    "                try:\n",
    "                    neighbors[elem][iter] += 1\n",
    "                except:\n",
    "                    neighbors[elem][iter] = 1\n",
    "    return neighbors #dictionary of key=item# and value=(dictionary of key=neighboring_item#, value=occurrence_count)"
   ]
  },
  {
   "cell_type": "code",
   "execution_count": 16,
   "metadata": {
    "colab": {
     "base_uri": "https://localhost:8080/"
    },
    "executionInfo": {
     "elapsed": 107308,
     "status": "ok",
     "timestamp": 1683357624245,
     "user": {
      "displayName": "Bryan Nathanael Wijaya",
      "userId": "05008851010654613119"
     },
     "user_tz": -540
    },
    "id": "m96ilfJUTRBa",
    "outputId": "1ae2c80e-8358-4da5-8aa2-d5c955b65772"
   },
   "outputs": [
    {
     "name": "stderr",
     "output_type": "stream",
     "text": [
      "100%|██████████| 22156/22156 [00:00<00:00, 238999.55it/s]\n",
      "100%|██████████| 53843/53843 [00:40<00:00, 1333.00it/s]\n"
     ]
    }
   ],
   "source": [
    "neighbors = neighbor(train)\n",
    "ui_neighbors = neighbor(ui)"
   ]
  },
  {
   "cell_type": "code",
   "execution_count": 17,
   "metadata": {
    "id": "OlRKukU3m4G1"
   },
   "outputs": [],
   "source": [
    "# get the items in the train data \n",
    "items = {}\n",
    "for i in train.keys():\n",
    "    iter = train[i]\n",
    "    for elem in iter:\n",
    "        try:\n",
    "            items[elem] += 1\n",
    "        except:\n",
    "            items[elem] = 1\n",
    "\n",
    "items_ = [elem[0] for elem in items.items()]\n",
    "\n",
    "# sort items based on their frequency in the train data (descending order)\n",
    "frequents = sorted(items.items(), key=lambda x:x[1], reverse=True)\n",
    "frequents = [elem[0] for elem in frequents]"
   ]
  },
  {
   "cell_type": "code",
   "execution_count": 18,
   "metadata": {
    "id": "v8hj4oO9nS1S"
   },
   "outputs": [],
   "source": [
    "def knn(query, ui=False, wt=0.0):\n",
    "    prediction = defaultdict(dict)\n",
    "\n",
    "    print(\"Getting neighbors...\")\n",
    "    # for each foo=itemset#, boo=list of items\n",
    "    for foo, boo in tqdm(query.items()):\n",
    "        # for each elem of boo:\n",
    "        for elem in boo:\n",
    "            # for each foo_=(item# neighboring boo in neighbors), boo_=(occurrences of neighboring in neighbors)\n",
    "            # add the boo_ to prediction[itemset#][candidate_neighbor_item#]\n",
    "            for foo_, boo_ in neighbors[elem].items():\n",
    "                try:\n",
    "                    prediction[foo][foo_] += boo_ \n",
    "                except:\n",
    "                    prediction[foo][foo_] = boo_\n",
    "            if ui:\n",
    "                for foo_, boo_ in ui_neighbors[elem].items():\n",
    "                    try:\n",
    "                        prediction[foo][foo_] += boo_ * wt\n",
    "                    except:\n",
    "                        prediction[foo][foo_] = boo_ * wt\n",
    "    \n",
    "    print(\"Removing items already in the itemset...\")\n",
    "    # remove candidate item if it is already in the itemset\n",
    "    for foo, boo in tqdm(prediction.items()):\n",
    "        remove = []\n",
    "        for foo_, boo_ in boo.items():\n",
    "            if foo_ in query[foo]:\n",
    "                remove.append(foo_)\n",
    "        for elem in remove:\n",
    "            prediction[foo].pop(elem)\n",
    "\n",
    "    # sort in descending order based on the # of occurrence, remove the # of occurrence\n",
    "    prediction = [(foo, boo.items()) for foo, boo in prediction.items()]\n",
    "    prediction = [(foo, sorted(boo, reverse=True, key=lambda x:x[1])) for foo, boo in prediction]\n",
    "    prediction = [(foo, [elem[0] for elem in boo]) for foo, boo in prediction]\n",
    "\n",
    "    print(\"Adding frequent items and finalizing results...\")    \n",
    "    # add frequent items\n",
    "    predictions = {}\n",
    "    for foo, boo in tqdm(prediction):\n",
    "        good = set(frequents).difference(boo).difference(query[foo])\n",
    "        predictions[foo] = (boo + [elem for elem in frequents if elem in good])[:100]\n",
    "        assert len(predictions[foo]) == 100\n",
    "\n",
    "    return predictions"
   ]
  },
  {
   "cell_type": "markdown",
   "metadata": {
    "id": "S6NATweuULFp"
   },
   "source": [
    "### Step 6-1. Neighbor Mining with ```train``` dataset"
   ]
  },
  {
   "cell_type": "code",
   "execution_count": null,
   "metadata": {
    "colab": {
     "base_uri": "https://localhost:8080/"
    },
    "executionInfo": {
     "elapsed": 37726,
     "status": "ok",
     "timestamp": 1683357661967,
     "user": {
      "displayName": "Bryan Nathanael Wijaya",
      "userId": "05008851010654613119"
     },
     "user_tz": -540
    },
    "id": "JLINcWjTsmxs",
    "outputId": "104f6c10-154d-4260-ff9f-16a360d0a09a"
   },
   "outputs": [
    {
     "name": "stdout",
     "output_type": "stream",
     "text": [
      "Getting neighbors...\n"
     ]
    },
    {
     "name": "stderr",
     "output_type": "stream",
     "text": [
      "100%|██████████| 2769/2769 [00:00<00:00, 7880.19it/s]\n"
     ]
    },
    {
     "name": "stdout",
     "output_type": "stream",
     "text": [
      "Removing items already in the itemset...\n"
     ]
    },
    {
     "name": "stderr",
     "output_type": "stream",
     "text": [
      "100%|██████████| 2769/2769 [00:00<00:00, 8290.18it/s]\n"
     ]
    },
    {
     "name": "stdout",
     "output_type": "stream",
     "text": [
      "Adding frequent items and finalizing results...\n"
     ]
    },
    {
     "name": "stderr",
     "output_type": "stream",
     "text": [
      "100%|██████████| 2769/2769 [00:36<00:00, 76.56it/s]\n"
     ]
    }
   ],
   "source": [
    "val_pred = knn(val_query)"
   ]
  },
  {
   "cell_type": "code",
   "execution_count": null,
   "metadata": {
    "colab": {
     "base_uri": "https://localhost:8080/"
    },
    "executionInfo": {
     "elapsed": 23,
     "status": "ok",
     "timestamp": 1683357661968,
     "user": {
      "displayName": "Bryan Nathanael Wijaya",
      "userId": "05008851010654613119"
     },
     "user_tz": -540
    },
    "id": "JUFbW1JVTREO",
    "outputId": "d8f26d53-7c21-4f62-f356-9ec574cb51eb"
   },
   "outputs": [
    {
     "name": "stdout",
     "output_type": "stream",
     "text": [
      "Average accuracy in the validation set: 0.16756951968219574\n",
      "Average rank in the validation set:     88.60960635608522\n"
     ]
    },
    {
     "data": {
      "text/plain": [
       "(0.16756951968219574, 88.60960635608522)"
      ]
     },
     "execution_count": 113,
     "metadata": {},
     "output_type": "execute_result"
    }
   ],
   "source": [
    "# evaluate model\n",
    "evaluate(val_pred, val_truth)"
   ]
  },
  {
   "cell_type": "markdown",
   "metadata": {
    "id": "57owWnd6UR_-"
   },
   "source": [
    "### Step 6-2. Neighbor Mining with ```train``` and ```ui``` datasets"
   ]
  },
  {
   "cell_type": "code",
   "execution_count": null,
   "metadata": {
    "colab": {
     "base_uri": "https://localhost:8080/"
    },
    "executionInfo": {
     "elapsed": 1201326,
     "status": "ok",
     "timestamp": 1683359926233,
     "user": {
      "displayName": "Bryan Nathanael Wijaya",
      "userId": "05008851010654613119"
     },
     "user_tz": -540
    },
    "id": "nYzaLXnZ8UsC",
    "outputId": "1f5937a9-e3b3-4bb6-c93e-49e49383dd14"
   },
   "outputs": [
    {
     "name": "stdout",
     "output_type": "stream",
     "text": [
      "=== Evaluating model with wt=0.00 ===\n",
      "Getting neighbors...\n"
     ]
    },
    {
     "name": "stderr",
     "output_type": "stream",
     "text": [
      "100%|██████████| 2769/2769 [00:34<00:00, 79.42it/s] \n"
     ]
    },
    {
     "name": "stdout",
     "output_type": "stream",
     "text": [
      "Removing items already in the itemset...\n"
     ]
    },
    {
     "name": "stderr",
     "output_type": "stream",
     "text": [
      "100%|██████████| 2769/2769 [00:06<00:00, 408.12it/s]\n"
     ]
    },
    {
     "name": "stdout",
     "output_type": "stream",
     "text": [
      "Adding frequent items and finalizing results...\n"
     ]
    },
    {
     "name": "stderr",
     "output_type": "stream",
     "text": [
      "100%|██████████| 2769/2769 [00:43<00:00, 64.03it/s]\n"
     ]
    },
    {
     "name": "stdout",
     "output_type": "stream",
     "text": [
      "Average accuracy in the validation set: 0.1621524015890213\n",
      "Average rank in the validation set:     88.60130010834236\n",
      "\n",
      "=== Evaluating model with wt=0.10 ===\n",
      "Getting neighbors...\n"
     ]
    },
    {
     "name": "stderr",
     "output_type": "stream",
     "text": [
      "100%|██████████| 2769/2769 [00:28<00:00, 95.88it/s] \n"
     ]
    },
    {
     "name": "stdout",
     "output_type": "stream",
     "text": [
      "Removing items already in the itemset...\n"
     ]
    },
    {
     "name": "stderr",
     "output_type": "stream",
     "text": [
      "100%|██████████| 2769/2769 [00:07<00:00, 373.26it/s]\n"
     ]
    },
    {
     "name": "stdout",
     "output_type": "stream",
     "text": [
      "Adding frequent items and finalizing results...\n"
     ]
    },
    {
     "name": "stderr",
     "output_type": "stream",
     "text": [
      "100%|██████████| 2769/2769 [00:49<00:00, 55.46it/s]\n"
     ]
    },
    {
     "name": "stdout",
     "output_type": "stream",
     "text": [
      "Average accuracy in the validation set: 0.24232574936800289\n",
      "Average rank in the validation set:     83.11664860960636\n",
      "\n",
      "=== Evaluating model with wt=0.20 ===\n",
      "Getting neighbors...\n"
     ]
    },
    {
     "name": "stderr",
     "output_type": "stream",
     "text": [
      "100%|██████████| 2769/2769 [00:30<00:00, 91.41it/s] \n"
     ]
    },
    {
     "name": "stdout",
     "output_type": "stream",
     "text": [
      "Removing items already in the itemset...\n"
     ]
    },
    {
     "name": "stderr",
     "output_type": "stream",
     "text": [
      "100%|██████████| 2769/2769 [00:05<00:00, 484.25it/s]\n"
     ]
    },
    {
     "name": "stdout",
     "output_type": "stream",
     "text": [
      "Adding frequent items and finalizing results...\n"
     ]
    },
    {
     "name": "stderr",
     "output_type": "stream",
     "text": [
      "100%|██████████| 2769/2769 [00:42<00:00, 64.81it/s]\n"
     ]
    },
    {
     "name": "stdout",
     "output_type": "stream",
     "text": [
      "Average accuracy in the validation set: 0.2322137955940773\n",
      "Average rank in the validation set:     84.11448176236908\n",
      "\n",
      "=== Evaluating model with wt=0.30 ===\n",
      "Getting neighbors...\n"
     ]
    },
    {
     "name": "stderr",
     "output_type": "stream",
     "text": [
      "100%|██████████| 2769/2769 [00:30<00:00, 91.84it/s]\n"
     ]
    },
    {
     "name": "stdout",
     "output_type": "stream",
     "text": [
      "Removing items already in the itemset...\n"
     ]
    },
    {
     "name": "stderr",
     "output_type": "stream",
     "text": [
      "100%|██████████| 2769/2769 [00:07<00:00, 388.62it/s]\n"
     ]
    },
    {
     "name": "stdout",
     "output_type": "stream",
     "text": [
      "Adding frequent items and finalizing results...\n"
     ]
    },
    {
     "name": "stderr",
     "output_type": "stream",
     "text": [
      "100%|██████████| 2769/2769 [00:43<00:00, 64.27it/s]\n"
     ]
    },
    {
     "name": "stdout",
     "output_type": "stream",
     "text": [
      "Average accuracy in the validation set: 0.22282412423257494\n",
      "Average rank in the validation set:     84.74792343806428\n",
      "\n",
      "=== Evaluating model with wt=0.40 ===\n",
      "Getting neighbors...\n"
     ]
    },
    {
     "name": "stderr",
     "output_type": "stream",
     "text": [
      "100%|██████████| 2769/2769 [00:29<00:00, 93.31it/s] \n"
     ]
    },
    {
     "name": "stdout",
     "output_type": "stream",
     "text": [
      "Removing items already in the itemset...\n"
     ]
    },
    {
     "name": "stderr",
     "output_type": "stream",
     "text": [
      "100%|██████████| 2769/2769 [00:05<00:00, 476.23it/s]\n"
     ]
    },
    {
     "name": "stdout",
     "output_type": "stream",
     "text": [
      "Adding frequent items and finalizing results...\n"
     ]
    },
    {
     "name": "stderr",
     "output_type": "stream",
     "text": [
      "100%|██████████| 2769/2769 [00:50<00:00, 55.04it/s]\n"
     ]
    },
    {
     "name": "stdout",
     "output_type": "stream",
     "text": [
      "Average accuracy in the validation set: 0.21776814734561215\n",
      "Average rank in the validation set:     85.17768147345612\n",
      "\n",
      "=== Evaluating model with wt=0.50 ===\n",
      "Getting neighbors...\n"
     ]
    },
    {
     "name": "stderr",
     "output_type": "stream",
     "text": [
      "100%|██████████| 2769/2769 [00:28<00:00, 96.58it/s] \n"
     ]
    },
    {
     "name": "stdout",
     "output_type": "stream",
     "text": [
      "Removing items already in the itemset...\n"
     ]
    },
    {
     "name": "stderr",
     "output_type": "stream",
     "text": [
      "100%|██████████| 2769/2769 [00:06<00:00, 440.39it/s]\n"
     ]
    },
    {
     "name": "stdout",
     "output_type": "stream",
     "text": [
      "Adding frequent items and finalizing results...\n"
     ]
    },
    {
     "name": "stderr",
     "output_type": "stream",
     "text": [
      "100%|██████████| 2769/2769 [00:45<00:00, 60.50it/s]\n"
     ]
    },
    {
     "name": "stdout",
     "output_type": "stream",
     "text": [
      "Average accuracy in the validation set: 0.21307331166486096\n",
      "Average rank in the validation set:     85.3355001805706\n",
      "\n",
      "=== Evaluating model with wt=0.60 ===\n",
      "Getting neighbors...\n"
     ]
    },
    {
     "name": "stderr",
     "output_type": "stream",
     "text": [
      "100%|██████████| 2769/2769 [00:28<00:00, 97.28it/s]\n"
     ]
    },
    {
     "name": "stdout",
     "output_type": "stream",
     "text": [
      "Removing items already in the itemset...\n"
     ]
    },
    {
     "name": "stderr",
     "output_type": "stream",
     "text": [
      "100%|██████████| 2769/2769 [00:06<00:00, 437.28it/s]\n"
     ]
    },
    {
     "name": "stdout",
     "output_type": "stream",
     "text": [
      "Adding frequent items and finalizing results...\n"
     ]
    },
    {
     "name": "stderr",
     "output_type": "stream",
     "text": [
      "100%|██████████| 2769/2769 [00:39<00:00, 69.77it/s]\n"
     ]
    },
    {
     "name": "stdout",
     "output_type": "stream",
     "text": [
      "Average accuracy in the validation set: 0.2109064644275912\n",
      "Average rank in the validation set:     85.58468761285663\n",
      "\n",
      "=== Evaluating model with wt=0.70 ===\n",
      "Getting neighbors...\n"
     ]
    },
    {
     "name": "stderr",
     "output_type": "stream",
     "text": [
      "100%|██████████| 2769/2769 [00:28<00:00, 96.34it/s] \n"
     ]
    },
    {
     "name": "stdout",
     "output_type": "stream",
     "text": [
      "Removing items already in the itemset...\n"
     ]
    },
    {
     "name": "stderr",
     "output_type": "stream",
     "text": [
      "100%|██████████| 2769/2769 [00:05<00:00, 479.98it/s]\n"
     ]
    },
    {
     "name": "stdout",
     "output_type": "stream",
     "text": [
      "Adding frequent items and finalizing results...\n"
     ]
    },
    {
     "name": "stderr",
     "output_type": "stream",
     "text": [
      "100%|██████████| 2769/2769 [00:46<00:00, 59.95it/s]\n"
     ]
    },
    {
     "name": "stdout",
     "output_type": "stream",
     "text": [
      "Average accuracy in the validation set: 0.2098230408089563\n",
      "Average rank in the validation set:     85.7612856626941\n",
      "\n",
      "=== Evaluating model with wt=0.80 ===\n",
      "Getting neighbors...\n"
     ]
    },
    {
     "name": "stderr",
     "output_type": "stream",
     "text": [
      "100%|██████████| 2769/2769 [00:29<00:00, 93.16it/s]\n"
     ]
    },
    {
     "name": "stdout",
     "output_type": "stream",
     "text": [
      "Removing items already in the itemset...\n"
     ]
    },
    {
     "name": "stderr",
     "output_type": "stream",
     "text": [
      "100%|██████████| 2769/2769 [00:06<00:00, 419.61it/s]\n"
     ]
    },
    {
     "name": "stdout",
     "output_type": "stream",
     "text": [
      "Adding frequent items and finalizing results...\n"
     ]
    },
    {
     "name": "stderr",
     "output_type": "stream",
     "text": [
      "100%|██████████| 2769/2769 [00:42<00:00, 65.92it/s]\n"
     ]
    },
    {
     "name": "stdout",
     "output_type": "stream",
     "text": [
      "Average accuracy in the validation set: 0.20837847598410977\n",
      "Average rank in the validation set:     85.85951607078367\n",
      "\n",
      "=== Evaluating model with wt=0.90 ===\n",
      "Getting neighbors...\n"
     ]
    },
    {
     "name": "stderr",
     "output_type": "stream",
     "text": [
      "100%|██████████| 2769/2769 [00:45<00:00, 60.31it/s] \n"
     ]
    },
    {
     "name": "stdout",
     "output_type": "stream",
     "text": [
      "Removing items already in the itemset...\n"
     ]
    },
    {
     "name": "stderr",
     "output_type": "stream",
     "text": [
      "100%|██████████| 2769/2769 [00:08<00:00, 337.27it/s]\n"
     ]
    },
    {
     "name": "stdout",
     "output_type": "stream",
     "text": [
      "Adding frequent items and finalizing results...\n"
     ]
    },
    {
     "name": "stderr",
     "output_type": "stream",
     "text": [
      "100%|██████████| 2769/2769 [00:43<00:00, 63.22it/s]\n"
     ]
    },
    {
     "name": "stdout",
     "output_type": "stream",
     "text": [
      "Average accuracy in the validation set: 0.20693391115926327\n",
      "Average rank in the validation set:     85.90213073311665\n",
      "\n",
      "=== Evaluating model with wt=1.00 ===\n",
      "Getting neighbors...\n"
     ]
    },
    {
     "name": "stderr",
     "output_type": "stream",
     "text": [
      "100%|██████████| 2769/2769 [00:30<00:00, 89.52it/s] \n"
     ]
    },
    {
     "name": "stdout",
     "output_type": "stream",
     "text": [
      "Removing items already in the itemset...\n"
     ]
    },
    {
     "name": "stderr",
     "output_type": "stream",
     "text": [
      "100%|██████████| 2769/2769 [00:08<00:00, 328.65it/s]\n"
     ]
    },
    {
     "name": "stdout",
     "output_type": "stream",
     "text": [
      "Adding frequent items and finalizing results...\n"
     ]
    },
    {
     "name": "stderr",
     "output_type": "stream",
     "text": [
      "100%|██████████| 2769/2769 [00:41<00:00, 67.34it/s]\n"
     ]
    },
    {
     "name": "stdout",
     "output_type": "stream",
     "text": [
      "Average accuracy in the validation set: 0.20548934633441676\n",
      "Average rank in the validation set:     85.96063560852294\n",
      "\n"
     ]
    }
   ],
   "source": [
    "accuracies = []\n",
    "ranks = []\n",
    "for i in range(11):\n",
    "    wt = 0.1 * i\n",
    "    print(f\"=== Evaluating model with wt={wt:.2f} ===\")\n",
    "    val_pred = knn(val_query, ui=True, wt=wt)\n",
    "    acc_, rank_ = evaluate(val_pred, val_truth)\n",
    "    accuracies.append(acc_)\n",
    "    ranks.append(rank_)\n",
    "    print(\"\")"
   ]
  },
  {
   "cell_type": "code",
   "execution_count": null,
   "metadata": {
    "colab": {
     "base_uri": "https://localhost:8080/",
     "height": 242
    },
    "executionInfo": {
     "elapsed": 759,
     "status": "ok",
     "timestamp": 1683359926974,
     "user": {
      "displayName": "Bryan Nathanael Wijaya",
      "userId": "05008851010654613119"
     },
     "user_tz": -540
    },
    "id": "QTOAMDMF8qiv",
    "outputId": "f095f998-7724-469c-fd8c-3b131ea1d484"
   },
   "outputs": [
    {
     "data": {
      "image/png": "[encoded data removed]",
      "text/plain": [
       "<Figure size 1500x400 with 2 Axes>"
      ]
     },
     "metadata": {},
     "output_type": "display_data"
    }
   ],
   "source": [
    "wt = [0.1*i for i in range(11)]\n",
    "plt.figure(figsize=(15,4))\n",
    "\n",
    "plt.subplot(121)\n",
    "plt.plot(wt, accuracies, 'b')\n",
    "plt.title(f'Average accuracies vs. wt')\n",
    "\n",
    "plt.subplot(122)\n",
    "plt.plot(wt, ranks, 'b')\n",
    "plt.title(f'Average ranks vs. wt')\n",
    "\n",
    "plt.show()"
   ]
  },
  {
   "cell_type": "code",
   "execution_count": null,
   "metadata": {
    "colab": {
     "base_uri": "https://localhost:8080/"
    },
    "executionInfo": {
     "elapsed": 1097398,
     "status": "ok",
     "timestamp": 1683366061927,
     "user": {
      "displayName": "Bryan Nathanael Wijaya",
      "userId": "05008851010654613119"
     },
     "user_tz": -540
    },
    "id": "h0db8dRzDozU",
    "outputId": "79f0f5a9-5736-4a06-d4ea-7229a12e3eb7"
   },
   "outputs": [
    {
     "name": "stdout",
     "output_type": "stream",
     "text": [
      "=== Evaluating model with wt=0.000 ===\n",
      "Getting neighbors...\n"
     ]
    },
    {
     "name": "stderr",
     "output_type": "stream",
     "text": [
      "100%|██████████| 2769/2769 [00:34<00:00, 81.38it/s]\n"
     ]
    },
    {
     "name": "stdout",
     "output_type": "stream",
     "text": [
      "Removing items already in the itemset...\n"
     ]
    },
    {
     "name": "stderr",
     "output_type": "stream",
     "text": [
      "100%|██████████| 2769/2769 [00:06<00:00, 424.54it/s]\n"
     ]
    },
    {
     "name": "stdout",
     "output_type": "stream",
     "text": [
      "Adding frequent items and finalizing results...\n"
     ]
    },
    {
     "name": "stderr",
     "output_type": "stream",
     "text": [
      "100%|██████████| 2769/2769 [01:03<00:00, 43.52it/s]\n"
     ]
    },
    {
     "name": "stdout",
     "output_type": "stream",
     "text": [
      "Average accuracy in the validation set: 0.1621524015890213\n",
      "Average rank in the validation set:     88.60130010834236\n",
      "\n",
      "=== Evaluating model with wt=0.020 ===\n",
      "Getting neighbors...\n"
     ]
    },
    {
     "name": "stderr",
     "output_type": "stream",
     "text": [
      "100%|██████████| 2769/2769 [00:33<00:00, 83.48it/s]\n"
     ]
    },
    {
     "name": "stdout",
     "output_type": "stream",
     "text": [
      "Removing items already in the itemset...\n"
     ]
    },
    {
     "name": "stderr",
     "output_type": "stream",
     "text": [
      "100%|██████████| 2769/2769 [00:05<00:00, 468.92it/s]\n"
     ]
    },
    {
     "name": "stdout",
     "output_type": "stream",
     "text": [
      "Adding frequent items and finalizing results...\n"
     ]
    },
    {
     "name": "stderr",
     "output_type": "stream",
     "text": [
      "100%|██████████| 2769/2769 [00:37<00:00, 73.63it/s]\n"
     ]
    },
    {
     "name": "stdout",
     "output_type": "stream",
     "text": [
      "Average accuracy in the validation set: 0.24521487901769592\n",
      "Average rank in the validation set:     82.81617912603828\n",
      "\n",
      "=== Evaluating model with wt=0.040 ===\n",
      "Getting neighbors...\n"
     ]
    },
    {
     "name": "stderr",
     "output_type": "stream",
     "text": [
      "100%|██████████| 2769/2769 [00:27<00:00, 101.49it/s]\n"
     ]
    },
    {
     "name": "stdout",
     "output_type": "stream",
     "text": [
      "Removing items already in the itemset...\n"
     ]
    },
    {
     "name": "stderr",
     "output_type": "stream",
     "text": [
      "100%|██████████| 2769/2769 [00:06<00:00, 422.36it/s]\n"
     ]
    },
    {
     "name": "stdout",
     "output_type": "stream",
     "text": [
      "Adding frequent items and finalizing results...\n"
     ]
    },
    {
     "name": "stderr",
     "output_type": "stream",
     "text": [
      "100%|██████████| 2769/2769 [00:35<00:00, 78.84it/s]\n"
     ]
    },
    {
     "name": "stdout",
     "output_type": "stream",
     "text": [
      "Average accuracy in the validation set: 0.24846514987360058\n",
      "Average rank in the validation set:     82.56193571686529\n",
      "\n",
      "=== Evaluating model with wt=0.060 ===\n",
      "Getting neighbors...\n"
     ]
    },
    {
     "name": "stderr",
     "output_type": "stream",
     "text": [
      "100%|██████████| 2769/2769 [00:27<00:00, 102.16it/s]\n"
     ]
    },
    {
     "name": "stdout",
     "output_type": "stream",
     "text": [
      "Removing items already in the itemset...\n"
     ]
    },
    {
     "name": "stderr",
     "output_type": "stream",
     "text": [
      "100%|██████████| 2769/2769 [00:05<00:00, 483.99it/s]\n"
     ]
    },
    {
     "name": "stdout",
     "output_type": "stream",
     "text": [
      "Adding frequent items and finalizing results...\n"
     ]
    },
    {
     "name": "stderr",
     "output_type": "stream",
     "text": [
      "100%|██████████| 2769/2769 [00:34<00:00, 81.36it/s]\n"
     ]
    },
    {
     "name": "stdout",
     "output_type": "stream",
     "text": [
      "Average accuracy in the validation set: 0.24593716143011918\n",
      "Average rank in the validation set:     82.80498374864572\n",
      "\n",
      "=== Evaluating model with wt=0.080 ===\n",
      "Getting neighbors...\n"
     ]
    },
    {
     "name": "stderr",
     "output_type": "stream",
     "text": [
      "100%|██████████| 2769/2769 [00:27<00:00, 101.52it/s]\n"
     ]
    },
    {
     "name": "stdout",
     "output_type": "stream",
     "text": [
      "Removing items already in the itemset...\n"
     ]
    },
    {
     "name": "stderr",
     "output_type": "stream",
     "text": [
      "100%|██████████| 2769/2769 [00:08<00:00, 315.20it/s]\n"
     ]
    },
    {
     "name": "stdout",
     "output_type": "stream",
     "text": [
      "Adding frequent items and finalizing results...\n"
     ]
    },
    {
     "name": "stderr",
     "output_type": "stream",
     "text": [
      "100%|██████████| 2769/2769 [00:36<00:00, 75.64it/s]\n"
     ]
    },
    {
     "name": "stdout",
     "output_type": "stream",
     "text": [
      "Average accuracy in the validation set: 0.24015890213073313\n",
      "Average rank in the validation set:     82.97977609245216\n",
      "\n",
      "=== Evaluating model with wt=0.100 ===\n",
      "Getting neighbors...\n"
     ]
    },
    {
     "name": "stderr",
     "output_type": "stream",
     "text": [
      "100%|██████████| 2769/2769 [00:27<00:00, 101.74it/s]\n"
     ]
    },
    {
     "name": "stdout",
     "output_type": "stream",
     "text": [
      "Removing items already in the itemset...\n"
     ]
    },
    {
     "name": "stderr",
     "output_type": "stream",
     "text": [
      "100%|██████████| 2769/2769 [00:05<00:00, 484.68it/s]\n"
     ]
    },
    {
     "name": "stdout",
     "output_type": "stream",
     "text": [
      "Adding frequent items and finalizing results...\n"
     ]
    },
    {
     "name": "stderr",
     "output_type": "stream",
     "text": [
      "100%|██████████| 2769/2769 [00:37<00:00, 74.00it/s]\n"
     ]
    },
    {
     "name": "stdout",
     "output_type": "stream",
     "text": [
      "Average accuracy in the validation set: 0.24232574936800289\n",
      "Average rank in the validation set:     83.11664860960636\n",
      "\n",
      "=== Evaluating model with wt=0.120 ===\n",
      "Getting neighbors...\n"
     ]
    },
    {
     "name": "stderr",
     "output_type": "stream",
     "text": [
      "100%|██████████| 2769/2769 [00:27<00:00, 101.31it/s]\n"
     ]
    },
    {
     "name": "stdout",
     "output_type": "stream",
     "text": [
      "Removing items already in the itemset...\n"
     ]
    },
    {
     "name": "stderr",
     "output_type": "stream",
     "text": [
      "100%|██████████| 2769/2769 [00:05<00:00, 478.32it/s]\n"
     ]
    },
    {
     "name": "stdout",
     "output_type": "stream",
     "text": [
      "Adding frequent items and finalizing results...\n"
     ]
    },
    {
     "name": "stderr",
     "output_type": "stream",
     "text": [
      "100%|██████████| 2769/2769 [00:40<00:00, 68.25it/s]\n"
     ]
    },
    {
     "name": "stdout",
     "output_type": "stream",
     "text": [
      "Average accuracy in the validation set: 0.24088118454315638\n",
      "Average rank in the validation set:     83.34525099313832\n",
      "\n",
      "=== Evaluating model with wt=0.140 ===\n",
      "Getting neighbors...\n"
     ]
    },
    {
     "name": "stderr",
     "output_type": "stream",
     "text": [
      "100%|██████████| 2769/2769 [00:27<00:00, 100.79it/s]\n"
     ]
    },
    {
     "name": "stdout",
     "output_type": "stream",
     "text": [
      "Removing items already in the itemset...\n"
     ]
    },
    {
     "name": "stderr",
     "output_type": "stream",
     "text": [
      "100%|██████████| 2769/2769 [00:05<00:00, 478.01it/s]\n"
     ]
    },
    {
     "name": "stdout",
     "output_type": "stream",
     "text": [
      "Adding frequent items and finalizing results...\n"
     ]
    },
    {
     "name": "stderr",
     "output_type": "stream",
     "text": [
      "100%|██████████| 2769/2769 [00:35<00:00, 78.70it/s]\n"
     ]
    },
    {
     "name": "stdout",
     "output_type": "stream",
     "text": [
      "Average accuracy in the validation set: 0.23943661971830985\n",
      "Average rank in the validation set:     83.51354279523294\n",
      "\n",
      "=== Evaluating model with wt=0.160 ===\n",
      "Getting neighbors...\n"
     ]
    },
    {
     "name": "stderr",
     "output_type": "stream",
     "text": [
      "100%|██████████| 2769/2769 [00:26<00:00, 103.67it/s]\n"
     ]
    },
    {
     "name": "stdout",
     "output_type": "stream",
     "text": [
      "Removing items already in the itemset...\n"
     ]
    },
    {
     "name": "stderr",
     "output_type": "stream",
     "text": [
      "100%|██████████| 2769/2769 [00:07<00:00, 369.01it/s]\n"
     ]
    },
    {
     "name": "stdout",
     "output_type": "stream",
     "text": [
      "Adding frequent items and finalizing results...\n"
     ]
    },
    {
     "name": "stderr",
     "output_type": "stream",
     "text": [
      "100%|██████████| 2769/2769 [00:37<00:00, 74.12it/s]\n"
     ]
    },
    {
     "name": "stdout",
     "output_type": "stream",
     "text": [
      "Average accuracy in the validation set: 0.2372697724810401\n",
      "Average rank in the validation set:     83.7547851209823\n",
      "\n",
      "=== Evaluating model with wt=0.180 ===\n",
      "Getting neighbors...\n"
     ]
    },
    {
     "name": "stderr",
     "output_type": "stream",
     "text": [
      "100%|██████████| 2769/2769 [00:27<00:00, 101.23it/s]\n"
     ]
    },
    {
     "name": "stdout",
     "output_type": "stream",
     "text": [
      "Removing items already in the itemset...\n"
     ]
    },
    {
     "name": "stderr",
     "output_type": "stream",
     "text": [
      "100%|██████████| 2769/2769 [00:07<00:00, 367.98it/s]\n"
     ]
    },
    {
     "name": "stdout",
     "output_type": "stream",
     "text": [
      "Adding frequent items and finalizing results...\n"
     ]
    },
    {
     "name": "stderr",
     "output_type": "stream",
     "text": [
      "100%|██████████| 2769/2769 [00:39<00:00, 69.58it/s]\n"
     ]
    },
    {
     "name": "stdout",
     "output_type": "stream",
     "text": [
      "Average accuracy in the validation set: 0.23510292524377033\n",
      "Average rank in the validation set:     83.96027446731672\n",
      "\n",
      "=== Evaluating model with wt=0.200 ===\n",
      "Getting neighbors...\n"
     ]
    },
    {
     "name": "stderr",
     "output_type": "stream",
     "text": [
      "100%|██████████| 2769/2769 [00:27<00:00, 101.27it/s]\n"
     ]
    },
    {
     "name": "stdout",
     "output_type": "stream",
     "text": [
      "Removing items already in the itemset...\n"
     ]
    },
    {
     "name": "stderr",
     "output_type": "stream",
     "text": [
      "100%|██████████| 2769/2769 [00:07<00:00, 370.38it/s]\n"
     ]
    },
    {
     "name": "stdout",
     "output_type": "stream",
     "text": [
      "Adding frequent items and finalizing results...\n"
     ]
    },
    {
     "name": "stderr",
     "output_type": "stream",
     "text": [
      "100%|██████████| 2769/2769 [00:35<00:00, 78.29it/s]\n"
     ]
    },
    {
     "name": "stdout",
     "output_type": "stream",
     "text": [
      "Average accuracy in the validation set: 0.2322137955940773\n",
      "Average rank in the validation set:     84.11448176236908\n",
      "\n"
     ]
    }
   ],
   "source": [
    "accuracies = []\n",
    "ranks = []\n",
    "for i in range(11):\n",
    "    wt = 0.02 * i\n",
    "    print(f\"=== Evaluating model with wt={wt:.3f} ===\")\n",
    "    val_pred = knn(val_query, ui=True, wt=wt)\n",
    "    acc_, rank_ = evaluate(val_pred, val_truth)\n",
    "    accuracies.append(acc_)\n",
    "    ranks.append(rank_)\n",
    "    print(\"\")"
   ]
  },
  {
   "cell_type": "code",
   "execution_count": null,
   "metadata": {
    "colab": {
     "base_uri": "https://localhost:8080/",
     "height": 242
    },
    "executionInfo": {
     "elapsed": 719,
     "status": "ok",
     "timestamp": 1683366062628,
     "user": {
      "displayName": "Bryan Nathanael Wijaya",
      "userId": "05008851010654613119"
     },
     "user_tz": -540
    },
    "id": "B816LbUjDrhU",
    "outputId": "130225f3-c755-4b00-ed0e-84c4cf5049a7"
   },
   "outputs": [
    {
     "data": {
      "image/png": "[encoded data removed]",
      "text/plain": [
       "<Figure size 1500x400 with 2 Axes>"
      ]
     },
     "metadata": {},
     "output_type": "display_data"
    }
   ],
   "source": [
    "wt = [0.02*i for i in range(11)]\n",
    "plt.figure(figsize=(15,4))\n",
    "\n",
    "plt.subplot(121)\n",
    "plt.plot(wt, accuracies, 'b')\n",
    "plt.title(f'Average accuracies vs. wt')\n",
    "\n",
    "plt.subplot(122)\n",
    "plt.plot(wt, ranks, 'b')\n",
    "plt.title(f'Average ranks vs. wt')\n",
    "\n",
    "plt.show()"
   ]
  },
  {
   "cell_type": "markdown",
   "metadata": {
    "id": "vliCOzAicI8u"
   },
   "source": [
    "## Step 7. Approach 3: Item-item collaborative filtering\n",
    "<b>Best result: ratio=0.96</b>  \n",
    "Average accuracy: 0.24774286746117732  \n",
    "Average rank:     82.61646803900325"
   ]
  },
  {
   "cell_type": "code",
   "execution_count": 43,
   "metadata": {
    "executionInfo": {
     "elapsed": 4,
     "status": "ok",
     "timestamp": 1685352364946,
     "user": {
      "displayName": "Bryan Nathanael Wijaya",
      "userId": "05008851010654613119"
     },
     "user_tz": -540
    },
    "id": "-JtBw6EYcI81"
   },
   "outputs": [],
   "source": [
    "def transpose(data):\n",
    "    trans = defaultdict(list)\n",
    "    for foo, boo in data.items():\n",
    "        for elem in boo: \n",
    "            trans[elem].append(foo)\n",
    "    return trans"
   ]
  },
  {
   "cell_type": "code",
   "execution_count": 16,
   "metadata": {
    "executionInfo": {
     "elapsed": 305,
     "status": "ok",
     "timestamp": 1685352369054,
     "user": {
      "displayName": "Bryan Nathanael Wijaya",
      "userId": "05008851010654613119"
     },
     "user_tz": -540
    },
    "id": "d-S2ct0TcI81"
   },
   "outputs": [],
   "source": [
    "# calculate the similarity between two items, foo and boo\n",
    "def similarity(foo, boo):\n",
    "    sim = len(set(foo).intersection(boo))\n",
    "    return sim"
   ]
  },
  {
   "cell_type": "code",
   "execution_count": 17,
   "metadata": {
    "executionInfo": {
     "elapsed": 407,
     "status": "ok",
     "timestamp": 1685366058392,
     "user": {
      "displayName": "Bryan Nathanael Wijaya",
      "userId": "05008851010654613119"
     },
     "user_tz": -540
    },
    "id": "7wv2C7oBcI81"
   },
   "outputs": [],
   "source": [
    "# sort the items in data in the order of similarity to the item foo\n",
    "def most_similar(idx, data, ref, len_=-1):\n",
    "    sims = []\n",
    "    for i in set(ref).difference({idx}):\n",
    "        sim = similarity(data[idx], data[i])\n",
    "        if len_ == -1 or sim>=len_:\n",
    "            sims.append((i, sim))\n",
    "    sims.sort(key=lambda x:x[1], reverse=True)\n",
    "    return sims"
   ]
  },
  {
   "cell_type": "code",
   "execution_count": 18,
   "metadata": {
    "executionInfo": {
     "elapsed": 307,
     "status": "ok",
     "timestamp": 1685383933843,
     "user": {
      "displayName": "Bryan Nathanael Wijaya",
      "userId": "05008851010654613119"
     },
     "user_tz": -540
    },
    "id": "VlG2TxyGtLeS"
   },
   "outputs": [],
   "source": [
    "# sort the items in data in the order of similarity to the item foo\n",
    "def ui_most_similar(idx, data, ref, len_=-1):\n",
    "    sims = []\n",
    "    for i in set(ref).difference({idx}):\n",
    "        if idx in data.keys() and i in data.keys():\n",
    "            sim = similarity(data[idx], data[i])\n",
    "            if len_ == -1 or sim>=len_:\n",
    "                sims.append((i, sim))\n",
    "    sims.sort(key=lambda x:x[1], reverse=True)\n",
    "    return sims"
   ]
  },
  {
   "cell_type": "code",
   "execution_count": 19,
   "metadata": {
    "executionInfo": {
     "elapsed": 404,
     "status": "ok",
     "timestamp": 1685366486556,
     "user": {
      "displayName": "Bryan Nathanael Wijaya",
      "userId": "05008851010654613119"
     },
     "user_tz": -540
    },
    "id": "qH9Zyr7RpnFM"
   },
   "outputs": [],
   "source": [
    "# get the items in the train data \n",
    "items = {}\n",
    "for i in train.keys():\n",
    "    iter = train[i]\n",
    "    for elem in iter:\n",
    "        try:\n",
    "            items[elem] += 1\n",
    "        except:\n",
    "            items[elem] = 1\n",
    "\n",
    "items_ = [elem[0] for elem in items.items()]\n",
    "\n",
    "# sort items based on their frequency in the train data (descending order)\n",
    "frequents = sorted(items.items(), key=lambda x:x[1], reverse=True)\n",
    "frequents = [elem[0] for elem in frequents]"
   ]
  },
  {
   "cell_type": "code",
   "execution_count": 20,
   "metadata": {
    "executionInfo": {
     "elapsed": 486,
     "status": "ok",
     "timestamp": 1685383937022,
     "user": {
      "displayName": "Bryan Nathanael Wijaya",
      "userId": "05008851010654613119"
     },
     "user_tz": -540
    },
    "id": "p-9LbDkJcI82"
   },
   "outputs": [],
   "source": [
    "# predicts the 100 most probable missing item in each itemset in dest_query\n",
    "def model(dest_query, combine=False, ratio=1.0, len_=-1):\n",
    "    dest_pred = defaultdict(dict)\n",
    "    train_ = transpose(train)\n",
    "    ui_ = transpose(ui)\n",
    "    # for each itemset in dest_query\n",
    "    for i in tqdm(dest_query.keys()):\n",
    "        dest_pred[i] = dict()\n",
    "        for idx in train_.keys():\n",
    "            sims = most_similar(idx, train_, dest_query[i], len_=len_)\n",
    "            for foo_, boo_ in sims:\n",
    "                try:\n",
    "                    dest_pred[i][idx] += boo_ * ratio\n",
    "                except:\n",
    "                    dest_pred[i][idx] = boo_ * ratio\n",
    "        if combine:\n",
    "            for idx in ui_.keys():\n",
    "                sims = ui_most_similar(idx, ui_, dest_query[i], len_=len_)\n",
    "                for foo_, boo_ in sims:\n",
    "                    try:\n",
    "                        dest_pred[i][idx] += boo_ * (1.0 - ratio)\n",
    "                    except:\n",
    "                        dest_pred[i][idx] = boo_ * (1.0 - ratio)\n",
    "\n",
    "    dest_pred = [(foo, boo.items()) for foo, boo in dest_pred.items()]\n",
    "    dest_pred = [(foo, sorted(boo, reverse=True, key=lambda x:x[1])[:120]) for foo, boo in dest_pred]\n",
    "    dest_pred = [(foo, [elem[0] for elem in boo]) for foo, boo in dest_pred]\n",
    "    dest_pred = [(foo, [elem for elem in boo if elem not in dest_query[foo]][:100]) for foo, boo in dest_pred]\n",
    "    for i in range(len(dest_pred)):\n",
    "        if len(dest_pred[i][1]) < 100:\n",
    "            good = set(frequents).difference(dest_pred[i][1]).difference(dest_query[dest_pred[i][0]])\n",
    "            dest_pred[i] = (dest_pred[i][0], list(dest_pred[i][1] + list(good))[:100])\n",
    "            #if len(dest_pred[i][1]) != 100:\n",
    "            #    print(\"Warning! Too little matches.\")\n",
    "\n",
    "    pred = {}\n",
    "    for foo, boo in dest_pred:\n",
    "        assert len(boo) == 100\n",
    "        pred[foo] = boo\n",
    "    return pred"
   ]
  },
  {
   "cell_type": "markdown",
   "metadata": {
    "id": "yqnm8_utcI81"
   },
   "source": [
    "### Step 7-1. Item-item collaborative filtering with ```train``` dataset"
   ]
  },
  {
   "cell_type": "markdown",
   "metadata": {
    "id": "S1opIHsXcI82"
   },
   "source": [
    "#### Step 7-1-1. Without similar item restriction"
   ]
  },
  {
   "cell_type": "code",
   "execution_count": 21,
   "metadata": {
    "colab": {
     "base_uri": "https://localhost:8080/"
    },
    "executionInfo": {
     "elapsed": 783871,
     "status": "ok",
     "timestamp": 1685353429270,
     "user": {
      "displayName": "Bryan Nathanael Wijaya",
      "userId": "05008851010654613119"
     },
     "user_tz": -540
    },
    "id": "_IvBq2FvcI82",
    "outputId": "0deffb3f-d8b3-407f-8724-3e253259a7fc"
   },
   "outputs": [
    {
     "name": "stderr",
     "output_type": "stream",
     "text": [
      "100%|██████████| 2769/2769 [03:46<00:00, 12.24it/s]\n"
     ]
    },
    {
     "name": "stdout",
     "output_type": "stream",
     "text": [
      "Average accuracy in the validation set: 0.14590104730949802\n",
      "Average rank in the validation set:     89.14156735283495\n"
     ]
    }
   ],
   "source": [
    "val_pred = model(val_query)\n",
    "acc_, rank_ = evaluate(val_pred, val_truth)"
   ]
  },
  {
   "cell_type": "markdown",
   "metadata": {
    "id": "5KMiilkQ31y0"
   },
   "source": [
    "#### Step 7-1-2. With similar item restriction"
   ]
  },
  {
   "cell_type": "code",
   "execution_count": 109,
   "metadata": {
    "colab": {
     "base_uri": "https://localhost:8080/"
    },
    "executionInfo": {
     "elapsed": 6079513,
     "status": "ok",
     "timestamp": 1685382123532,
     "user": {
      "displayName": "Bryan Nathanael Wijaya",
      "userId": "05008851010654613119"
     },
     "user_tz": -540
    },
    "id": "8jTd-tw62JSu",
    "outputId": "def4f3a0-cc1c-484e-af6b-1f8f2ca99f7a"
   },
   "outputs": [
    {
     "name": "stdout",
     "output_type": "stream",
     "text": [
      "=== Evaluating model with len_=0 ===\n"
     ]
    },
    {
     "name": "stderr",
     "output_type": "stream",
     "text": [
      "100%|██████████| 2769/2769 [12:07<00:00,  3.81it/s]\n"
     ]
    },
    {
     "name": "stdout",
     "output_type": "stream",
     "text": [
      "Average accuracy in the validation set: 0.14590104730949802\n",
      "Average rank in the validation set:     89.14156735283495\n",
      "\n",
      "=== Evaluating model with len_=1 ===\n"
     ]
    },
    {
     "name": "stderr",
     "output_type": "stream",
     "text": [
      "100%|██████████| 2769/2769 [08:32<00:00,  5.40it/s]\n"
     ]
    },
    {
     "name": "stdout",
     "output_type": "stream",
     "text": [
      "Average accuracy in the validation set: 0.14228963524738172\n",
      "Average rank in the validation set:     89.27771758757675\n",
      "\n",
      "=== Evaluating model with len_=2 ===\n"
     ]
    },
    {
     "name": "stderr",
     "output_type": "stream",
     "text": [
      "100%|██████████| 2769/2769 [08:24<00:00,  5.49it/s]\n"
     ]
    },
    {
     "name": "stdout",
     "output_type": "stream",
     "text": [
      "Average accuracy in the validation set: 0.04911520404478151\n",
      "Average rank in the validation set:     96.32249909714699\n",
      "\n",
      "=== Evaluating model with len_=3 ===\n"
     ]
    },
    {
     "name": "stderr",
     "output_type": "stream",
     "text": [
      "100%|██████████| 2769/2769 [08:31<00:00,  5.41it/s]\n"
     ]
    },
    {
     "name": "stdout",
     "output_type": "stream",
     "text": [
      "Average accuracy in the validation set: 0.03178042614662333\n",
      "Average rank in the validation set:     97.94366197183099\n",
      "\n",
      "=== Evaluating model with len_=4 ===\n"
     ]
    },
    {
     "name": "stderr",
     "output_type": "stream",
     "text": [
      "100%|██████████| 2769/2769 [08:37<00:00,  5.35it/s]\n"
     ]
    },
    {
     "name": "stdout",
     "output_type": "stream",
     "text": [
      "Average accuracy in the validation set: 0.024557602022390754\n",
      "Average rank in the validation set:     98.63560852293247\n",
      "\n",
      "=== Evaluating model with len_=5 ===\n"
     ]
    },
    {
     "name": "stderr",
     "output_type": "stream",
     "text": [
      "100%|██████████| 2769/2769 [08:37<00:00,  5.36it/s]\n"
     ]
    },
    {
     "name": "stdout",
     "output_type": "stream",
     "text": [
      "Average accuracy in the validation set: 0.018779342723004695\n",
      "Average rank in the validation set:     99.19068255687974\n",
      "\n",
      "=== Evaluating model with len_=6 ===\n"
     ]
    },
    {
     "name": "stderr",
     "output_type": "stream",
     "text": [
      "100%|██████████| 2769/2769 [08:42<00:00,  5.30it/s]\n"
     ]
    },
    {
     "name": "stdout",
     "output_type": "stream",
     "text": [
      "Average accuracy in the validation set: 0.013362224629830263\n",
      "Average rank in the validation set:     99.72444925966053\n",
      "\n",
      "=== Evaluating model with len_=7 ===\n"
     ]
    },
    {
     "name": "stderr",
     "output_type": "stream",
     "text": [
      "100%|██████████| 2769/2769 [08:37<00:00,  5.35it/s]\n"
     ]
    },
    {
     "name": "stdout",
     "output_type": "stream",
     "text": [
      "Average accuracy in the validation set: 0.010473094980137234\n",
      "Average rank in the validation set:     100.01083423618635\n",
      "\n",
      "=== Evaluating model with len_=8 ===\n"
     ]
    },
    {
     "name": "stderr",
     "output_type": "stream",
     "text": [
      "100%|██████████| 2769/2769 [08:37<00:00,  5.35it/s]\n"
     ]
    },
    {
     "name": "stdout",
     "output_type": "stream",
     "text": [
      "Average accuracy in the validation set: 0.009389671361502348\n",
      "Average rank in the validation set:     100.11881545684362\n",
      "\n",
      "=== Evaluating model with len_=9 ===\n"
     ]
    },
    {
     "name": "stderr",
     "output_type": "stream",
     "text": [
      "100%|██████████| 2769/2769 [08:33<00:00,  5.39it/s]\n"
     ]
    },
    {
     "name": "stdout",
     "output_type": "stream",
     "text": [
      "Average accuracy in the validation set: 0.008306247742867461\n",
      "Average rank in the validation set:     100.22571325388226\n",
      "\n",
      "=== Evaluating model with len_=10 ===\n"
     ]
    },
    {
     "name": "stderr",
     "output_type": "stream",
     "text": [
      "100%|██████████| 2769/2769 [08:32<00:00,  5.41it/s]\n"
     ]
    },
    {
     "name": "stdout",
     "output_type": "stream",
     "text": [
      "Average accuracy in the validation set: 0.008306247742867461\n",
      "Average rank in the validation set:     100.22571325388226\n",
      "\n"
     ]
    }
   ],
   "source": [
    "accuracies = []\n",
    "ranks = []\n",
    "for i in range(11):\n",
    "    len_ = i\n",
    "    print(f\"=== Evaluating model with len_={len_} ===\")\n",
    "    val_pred = model(val_query, len_=len_)\n",
    "    acc_, rank_ = evaluate(val_pred, val_truth)\n",
    "    accuracies.append(acc_)\n",
    "    ranks.append(rank_)\n",
    "    print(\"\")"
   ]
  },
  {
   "cell_type": "code",
   "execution_count": 110,
   "metadata": {
    "colab": {
     "base_uri": "https://localhost:8080/",
     "height": 391
    },
    "executionInfo": {
     "elapsed": 1131,
     "status": "ok",
     "timestamp": 1685382835606,
     "user": {
      "displayName": "Bryan Nathanael Wijaya",
      "userId": "05008851010654613119"
     },
     "user_tz": -540
    },
    "id": "pjIjB9Pj2x4S",
    "outputId": "8847772a-d2e6-4b90-deb4-308295777f90"
   },
   "outputs": [
    {
     "data": {
      "image/png": "[encoded data removed]",
      "text/plain": [
       "<Figure size 1500x400 with 2 Axes>"
      ]
     },
     "metadata": {},
     "output_type": "display_data"
    }
   ],
   "source": [
    "len_ = [i for i in range(11)]\n",
    "plt.figure(figsize=(15,4))\n",
    "\n",
    "plt.subplot(121)\n",
    "plt.plot(len_, accuracies, 'b')\n",
    "plt.title('Average accuracies vs. len_')\n",
    "\n",
    "plt.subplot(122)\n",
    "plt.plot(len_, ranks, 'b')\n",
    "plt.title('Average ranks vs. len_')\n",
    "\n",
    "plt.show()"
   ]
  },
  {
   "cell_type": "markdown",
   "metadata": {
    "id": "5jk4e40OAQd2"
   },
   "source": [
    "### Step 7-2. Item-item collaborative filtering with ```train``` and ```ui``` datasets"
   ]
  },
  {
   "cell_type": "code",
   "execution_count": 22,
   "metadata": {
    "colab": {
     "base_uri": "https://localhost:8080/"
    },
    "id": "F0eX6VbBAkJ9",
    "outputId": "fe741145-5c11-4239-b023-b5597e6c2e01"
   },
   "outputs": [
    {
     "name": "stdout",
     "output_type": "stream",
     "text": [
      "=== Evaluating model with ratio=0.0 ===\n"
     ]
    },
    {
     "name": "stderr",
     "output_type": "stream",
     "text": [
      "100%|██████████| 2769/2769 [27:11<00:00,  1.70it/s]\n"
     ]
    },
    {
     "name": "stdout",
     "output_type": "stream",
     "text": [
      "Average accuracy in the validation set: 0.19754423979776092\n",
      "Average rank in the validation set:     86.72083784759842\n",
      "\n",
      "=== Evaluating model with ratio=0.1 ===\n"
     ]
    },
    {
     "name": "stderr",
     "output_type": "stream",
     "text": [
      "100%|██████████| 2769/2769 [27:11<00:00,  1.70it/s]\n"
     ]
    },
    {
     "name": "stdout",
     "output_type": "stream",
     "text": [
      "Average accuracy in the validation set: 0.1997110870350307\n",
      "Average rank in the validation set:     86.5745756590827\n",
      "\n",
      "=== Evaluating model with ratio=0.2 ===\n"
     ]
    },
    {
     "name": "stderr",
     "output_type": "stream",
     "text": [
      "100%|██████████| 2769/2769 [27:32<00:00,  1.68it/s]\n"
     ]
    },
    {
     "name": "stdout",
     "output_type": "stream",
     "text": [
      "Average accuracy in the validation set: 0.20007222824124232\n",
      "Average rank in the validation set:     86.56193571686529\n",
      "\n",
      "=== Evaluating model with ratio=0.3 ===\n"
     ]
    },
    {
     "name": "stderr",
     "output_type": "stream",
     "text": [
      "100%|██████████| 2769/2769 [29:58<00:00,  1.54it/s]\n"
     ]
    },
    {
     "name": "stdout",
     "output_type": "stream",
     "text": [
      "Average accuracy in the validation set: 0.20043336944745396\n",
      "Average rank in the validation set:     86.5250993138317\n",
      "\n",
      "=== Evaluating model with ratio=0.4 ===\n"
     ]
    },
    {
     "name": "stderr",
     "output_type": "stream",
     "text": [
      "100%|██████████| 2769/2769 [29:25<00:00,  1.57it/s]\n"
     ]
    },
    {
     "name": "stdout",
     "output_type": "stream",
     "text": [
      "Average accuracy in the validation set: 0.20332249909714697\n",
      "Average rank in the validation set:     86.40917298663777\n",
      "\n",
      "=== Evaluating model with ratio=0.5 ===\n"
     ]
    },
    {
     "name": "stderr",
     "output_type": "stream",
     "text": [
      "100%|██████████| 2769/2769 [27:32<00:00,  1.68it/s]\n"
     ]
    },
    {
     "name": "stdout",
     "output_type": "stream",
     "text": [
      "Average accuracy in the validation set: 0.20657276995305165\n",
      "Average rank in the validation set:     86.12026002166847\n",
      "\n",
      "=== Evaluating model with ratio=0.6 ===\n"
     ]
    },
    {
     "name": "stderr",
     "output_type": "stream",
     "text": [
      "100%|██████████| 2769/2769 [27:33<00:00,  1.67it/s]\n"
     ]
    },
    {
     "name": "stdout",
     "output_type": "stream",
     "text": [
      "Average accuracy in the validation set: 0.2109064644275912\n",
      "Average rank in the validation set:     85.6984470928133\n",
      "\n",
      "=== Evaluating model with ratio=0.7 ===\n"
     ]
    },
    {
     "name": "stderr",
     "output_type": "stream",
     "text": [
      "100%|██████████| 2769/2769 [27:43<00:00,  1.66it/s]\n"
     ]
    },
    {
     "name": "stdout",
     "output_type": "stream",
     "text": [
      "Average accuracy in the validation set: 0.21668472372697725\n",
      "Average rank in the validation set:     85.31888768508487\n",
      "\n",
      "=== Evaluating model with ratio=0.8 ===\n"
     ]
    },
    {
     "name": "stderr",
     "output_type": "stream",
     "text": [
      "100%|██████████| 2769/2769 [27:09<00:00,  1.70it/s]\n"
     ]
    },
    {
     "name": "stdout",
     "output_type": "stream",
     "text": [
      "Average accuracy in the validation set: 0.22824124232574936\n",
      "Average rank in the validation set:     84.49512459371614\n",
      "\n",
      "=== Evaluating model with ratio=0.9 ===\n"
     ]
    },
    {
     "name": "stderr",
     "output_type": "stream",
     "text": [
      "100%|██████████| 2769/2769 [27:05<00:00,  1.70it/s]\n"
     ]
    },
    {
     "name": "stdout",
     "output_type": "stream",
     "text": [
      "Average accuracy in the validation set: 0.24088118454315638\n",
      "Average rank in the validation set:     83.27591188154568\n",
      "\n",
      "=== Evaluating model with ratio=1.0 ===\n"
     ]
    },
    {
     "name": "stderr",
     "output_type": "stream",
     "text": [
      "100%|██████████| 2769/2769 [27:07<00:00,  1.70it/s]\n"
     ]
    },
    {
     "name": "stdout",
     "output_type": "stream",
     "text": [
      "Average accuracy in the validation set: 0.14590104730949802\n",
      "Average rank in the validation set:     89.14156735283495\n",
      "\n"
     ]
    }
   ],
   "source": [
    "accuracies = []\n",
    "ranks = []\n",
    "for i in range(11):\n",
    "    ratio = 0.1 * i\n",
    "    print(f\"=== Evaluating model with ratio={ratio:.1f} ===\")\n",
    "    val_pred = model(val_query, combine=True, ratio=ratio)\n",
    "    acc_, rank_ = evaluate(val_pred, val_truth)\n",
    "    accuracies.append(acc_)\n",
    "    ranks.append(rank_)\n",
    "    print(\"\")"
   ]
  },
  {
   "cell_type": "code",
   "execution_count": 23,
   "metadata": {
    "id": "JzcE0t_5AQeB"
   },
   "outputs": [
    {
     "data": {
      "image/png": "[encoded data removed]",
      "text/plain": [
       "<Figure size 1500x400 with 2 Axes>"
      ]
     },
     "metadata": {},
     "output_type": "display_data"
    }
   ],
   "source": [
    "ratio = [0.1*i for i in range(11)]\n",
    "plt.figure(figsize=(15,4))\n",
    "\n",
    "plt.subplot(121)\n",
    "plt.plot(ratio, accuracies, 'b')\n",
    "plt.title('Average accuracies vs. ratio')\n",
    "\n",
    "plt.subplot(122)\n",
    "plt.plot(ratio, ranks, 'b')\n",
    "plt.title('Average ranks vs. ratio')\n",
    "\n",
    "plt.show()"
   ]
  },
  {
   "cell_type": "code",
   "execution_count": 26,
   "metadata": {},
   "outputs": [
    {
     "name": "stdout",
     "output_type": "stream",
     "text": [
      "=== Evaluating model with ratio=0.92 ===\n"
     ]
    },
    {
     "name": "stderr",
     "output_type": "stream",
     "text": [
      "100%|██████████| 2769/2769 [27:45<00:00,  1.66it/s]\n"
     ]
    },
    {
     "name": "stdout",
     "output_type": "stream",
     "text": [
      "Average accuracy in the validation set: 0.24160346695557963\n",
      "Average rank in the validation set:     83.07836764174792\n",
      "\n",
      "=== Evaluating model with ratio=0.94 ===\n"
     ]
    },
    {
     "name": "stderr",
     "output_type": "stream",
     "text": [
      "100%|██████████| 2769/2769 [28:11<00:00,  1.64it/s]\n"
     ]
    },
    {
     "name": "stdout",
     "output_type": "stream",
     "text": [
      "Average accuracy in the validation set: 0.24413145539906103\n",
      "Average rank in the validation set:     82.87721198988805\n",
      "\n",
      "=== Evaluating model with ratio=0.96 ===\n"
     ]
    },
    {
     "name": "stderr",
     "output_type": "stream",
     "text": [
      "100%|██████████| 2769/2769 [28:10<00:00,  1.64it/s]\n"
     ]
    },
    {
     "name": "stdout",
     "output_type": "stream",
     "text": [
      "Average accuracy in the validation set: 0.24774286746117732\n",
      "Average rank in the validation set:     82.61646803900325\n",
      "\n",
      "=== Evaluating model with ratio=0.98 ===\n"
     ]
    },
    {
     "name": "stderr",
     "output_type": "stream",
     "text": [
      "100%|██████████| 2769/2769 [28:13<00:00,  1.64it/s]\n"
     ]
    },
    {
     "name": "stdout",
     "output_type": "stream",
     "text": [
      "Average accuracy in the validation set: 0.24593716143011918\n",
      "Average rank in the validation set:     82.79198266522211\n",
      "\n"
     ]
    }
   ],
   "source": [
    "accuracies = []\n",
    "ranks = []\n",
    "for i in range(1,5):\n",
    "    ratio = 0.9 + 0.02 * i\n",
    "    print(f\"=== Evaluating model with ratio={ratio:.2f} ===\")\n",
    "    val_pred = model(val_query, combine=True, ratio=ratio)\n",
    "    acc_, rank_ = evaluate(val_pred, val_truth)\n",
    "    accuracies.append(acc_)\n",
    "    ranks.append(rank_)\n",
    "    print(\"\")"
   ]
  },
  {
   "cell_type": "code",
   "execution_count": 27,
   "metadata": {},
   "outputs": [
    {
     "data": {
      "image/png": "[encoded data removed]",
      "text/plain": [
       "<Figure size 1500x400 with 2 Axes>"
      ]
     },
     "metadata": {},
     "output_type": "display_data"
    }
   ],
   "source": [
    "ratio = [0.9 + 0.02 * i for i in range(1,5)]\n",
    "plt.figure(figsize=(15,4))\n",
    "\n",
    "plt.subplot(121)\n",
    "plt.plot(ratio, accuracies, 'b')\n",
    "plt.title('Average accuracies vs. ratio')\n",
    "\n",
    "plt.subplot(122)\n",
    "plt.plot(ratio, ranks, 'b')\n",
    "plt.title('Average ranks vs. ratio')\n",
    "\n",
    "plt.show()"
   ]
  },
  {
   "cell_type": "markdown",
   "metadata": {
    "id": "LVM1RhraWYb6"
   },
   "source": [
    "## Step 8. Finding the 100 most probable fashion items of test queries using Neighbor Mining with wt=0.04\n",
    "For each query of incomplete outfits in ```itemset_item_test_query.csv```, we write the 100 most probable fashion items in ```itemset_item_test_prediction.csv```. Specifically, we write 101 values separated by commas where each line consists of ```itemset_id``` + comma + 100 ```item_id``` candidates (sorted in descending order based on the probability of being the missing item) which are separated by a comma."
   ]
  },
  {
   "cell_type": "markdown",
   "metadata": {
    "id": "90-yzLurUf3U"
   },
   "source": [
    "### Step 8-1. Processing test queries"
   ]
  },
  {
   "cell_type": "code",
   "execution_count": 19,
   "metadata": {},
   "outputs": [
    {
     "name": "stdout",
     "output_type": "stream",
     "text": [
      "Getting neighbors...\n"
     ]
    },
    {
     "name": "stderr",
     "output_type": "stream",
     "text": [
      "100%|██████████| 2769/2769 [00:08<00:00, 326.50it/s]\n"
     ]
    },
    {
     "name": "stdout",
     "output_type": "stream",
     "text": [
      "Removing items already in the itemset...\n"
     ]
    },
    {
     "name": "stderr",
     "output_type": "stream",
     "text": [
      "100%|██████████| 2769/2769 [00:02<00:00, 1208.89it/s]\n"
     ]
    },
    {
     "name": "stdout",
     "output_type": "stream",
     "text": [
      "Adding frequent items and finalizing results...\n"
     ]
    },
    {
     "name": "stderr",
     "output_type": "stream",
     "text": [
      "100%|██████████| 2769/2769 [00:08<00:00, 340.99it/s]\n"
     ]
    },
    {
     "name": "stdout",
     "output_type": "stream",
     "text": [
      "Average accuracy in the validation set: 0.24846514987360058\n",
      "Average rank in the validation set:     82.56193571686529\n"
     ]
    }
   ],
   "source": [
    "val_pred = knn(val_query, ui=True, wt=0.04)\n",
    "acc_, rank_ = evaluate(val_pred, val_truth)"
   ]
  },
  {
   "cell_type": "code",
   "execution_count": 20,
   "metadata": {
    "id": "8ie9SwFmUWnt"
   },
   "outputs": [
    {
     "name": "stdout",
     "output_type": "stream",
     "text": [
      "Getting neighbors...\n"
     ]
    },
    {
     "name": "stderr",
     "output_type": "stream",
     "text": [
      "100%|██████████| 2769/2769 [00:08<00:00, 311.04it/s]\n"
     ]
    },
    {
     "name": "stdout",
     "output_type": "stream",
     "text": [
      "Removing items already in the itemset...\n"
     ]
    },
    {
     "name": "stderr",
     "output_type": "stream",
     "text": [
      "100%|██████████| 2769/2769 [00:02<00:00, 1280.07it/s]\n"
     ]
    },
    {
     "name": "stdout",
     "output_type": "stream",
     "text": [
      "Adding frequent items and finalizing results...\n"
     ]
    },
    {
     "name": "stderr",
     "output_type": "stream",
     "text": [
      "100%|██████████| 2769/2769 [00:08<00:00, 319.46it/s]\n"
     ]
    }
   ],
   "source": [
    "test_pred = knn(test_query, ui=True, wt=0.04)"
   ]
  },
  {
   "cell_type": "markdown",
   "metadata": {
    "id": "fypMOletWhIK"
   },
   "source": [
    "### Step 8-2. Mounting the answers for test queries to ```itemset_item_test_prediction.csv```"
   ]
  },
  {
   "cell_type": "code",
   "execution_count": 21,
   "metadata": {
    "id": "cZRYSQ_tWrZb"
   },
   "outputs": [],
   "source": [
    "import csv\n",
    "\n",
    "cnt = 0\n",
    "with open(\"./result/itemset_item_test_prediction.csv\", \"w\") as f:\n",
    "    writer = csv.writer(f)\n",
    "    for foo, boo in zip(test_pred.keys(), test_pred.values()):\n",
    "        prediction = (foo, *boo)\n",
    "        writer.writerow(prediction)\n",
    "        cnt += 1"
   ]
  },
  {
   "cell_type": "code",
   "execution_count": 22,
   "metadata": {
    "id": "2cUEvfmTfZ93"
   },
   "outputs": [
    {
     "name": "stdout",
     "output_type": "stream",
     "text": [
      "Test predictions mounted correctly.\n"
     ]
    }
   ],
   "source": [
    "if cnt == 2769 and len(test_pred) == 2769:\n",
    "    print(\"Test predictions mounted correctly.\")"
   ]
  },
  {
   "cell_type": "code",
   "execution_count": null,
   "metadata": {},
   "outputs": [],
   "source": []
  }
 ],
 "metadata": {
  "colab": {
   "authorship_tag": "ABX9TyPC8Fku0McGgyIIAUXl2xP0",
   "collapsed_sections": [
    "sSgOu1pSUk5a",
    "8keXX-ojV6Kh",
    "0LYE7IyTUqLw",
    "7YneelcLJaKP",
    "Xee9WaDAH6GX",
    "x2oxtAFHVVC4",
    "qKYeQVFkLvkf",
    "Nvfigs4RVs_P"
   ],
   "provenance": []
  },
  "kernelspec": {
   "display_name": "Python 3 (ipykernel)",
   "language": "python",
   "name": "python3"
  },
  "language_info": {
   "codemirror_mode": {
    "name": "ipython",
    "version": 3
   },
   "file_extension": ".py",
   "mimetype": "text/x-python",
   "name": "python",
   "nbconvert_exporter": "python",
   "pygments_lexer": "ipython3",
   "version": "3.9.13"
  }
 },
 "nbformat": 4,
 "nbformat_minor": 1
}
